{
 "cells": [
  {
   "cell_type": "markdown",
   "id": "a431c903",
   "metadata": {},
   "source": [
    "# Predicting Protein Functions"
   ]
  },
  {
   "cell_type": "markdown",
   "id": "92b39d71",
   "metadata": {},
   "source": [
    "## Data Preprocessing"
   ]
  },
  {
   "cell_type": "code",
   "execution_count": 44,
   "id": "3f5f5133",
   "metadata": {
    "execution": {
     "iopub.execute_input": "2024-06-24T19:05:20.782741Z",
     "iopub.status.busy": "2024-06-24T19:05:20.782304Z",
     "iopub.status.idle": "2024-06-24T19:05:20.788208Z",
     "shell.execute_reply": "2024-06-24T19:05:20.786746Z",
     "shell.execute_reply.started": "2024-06-24T19:05:20.782707Z"
    }
   },
   "outputs": [],
   "source": [
    "import re # regular expression\n",
    "import os  #operating system\n",
    "import glob \n",
    "import json"
   ]
  },
  {
   "cell_type": "code",
   "execution_count": 34,
   "id": "372ef51f",
   "metadata": {
    "execution": {
     "iopub.execute_input": "2024-06-24T19:03:14.531968Z",
     "iopub.status.busy": "2024-06-24T19:03:14.531545Z",
     "iopub.status.idle": "2024-06-24T19:03:14.538080Z",
     "shell.execute_reply": "2024-06-24T19:03:14.536807Z",
     "shell.execute_reply.started": "2024-06-24T19:03:14.531932Z"
    }
   },
   "outputs": [
    {
     "name": "stdout",
     "output_type": "stream",
     "text": [
      "/kaggle/input/protein-dataset\n"
     ]
    }
   ],
   "source": [
    "#making dataset path universal for all operating systems\n",
    "scrape_dir = os.path.join(\"/kaggle/input/protein-dataset\")\n",
    "print(scrape_dir)"
   ]
  },
  {
   "cell_type": "code",
   "execution_count": 35,
   "id": "d490b652",
   "metadata": {
    "execution": {
     "iopub.execute_input": "2024-06-24T19:03:18.610354Z",
     "iopub.status.busy": "2024-06-24T19:03:18.609961Z",
     "iopub.status.idle": "2024-06-24T19:03:18.618789Z",
     "shell.execute_reply": "2024-06-24T19:03:18.617744Z",
     "shell.execute_reply.started": "2024-06-24T19:03:18.610321Z"
    }
   },
   "outputs": [
    {
     "name": "stdout",
     "output_type": "stream",
     "text": [
      "Converting Sequences\n",
      "Writing to: /kaggle/working/protein-seqs-2024-06-24-190318.txt\n"
     ]
    }
   ],
   "source": [
    "import datetime , time   # to keep track of files created\n",
    "\n",
    "ts = time.time()\n",
    "st = datetime.datetime.fromtimestamp(ts).strftime(\"%Y-%m-%d-%H%M%S\")\n",
    "\n",
    "print(\"Converting Sequences\")\n",
    "\n",
    "# Define the directory and ensure it exists\n",
    "output_dir = os.path.join(\"/kaggle/working\")\n",
    "if not os.path.exists(output_dir):\n",
    "    os.makedirs(output_dir)\n",
    "\n",
    "# Construct the output file path\n",
    "out_file = os.path.join(output_dir, f\"protein-seqs-{st}.txt\")\n",
    "print(f\"Writing to: {out_file}\")"
   ]
  },
  {
   "cell_type": "code",
   "execution_count": 36,
   "id": "f0fab222",
   "metadata": {
    "execution": {
     "iopub.execute_input": "2024-06-24T19:03:22.967463Z",
     "iopub.status.busy": "2024-06-24T19:03:22.966361Z",
     "iopub.status.idle": "2024-06-24T19:03:22.975346Z",
     "shell.execute_reply": "2024-06-24T19:03:22.974219Z",
     "shell.execute_reply.started": "2024-06-24T19:03:22.967407Z"
    }
   },
   "outputs": [
    {
     "name": "stdout",
     "output_type": "stream",
     "text": [
      "['/kaggle/input/protein-dataset/all-human-0001.fasta']\n"
     ]
    }
   ],
   "source": [
    "num_proteins_done = 0   # TODO: Remove (here to reduce complexity)\n",
    "\n",
    "# All files are read like this: \n",
    "fasta_files = glob.glob(scrape_dir + \"/*.fasta\") #searcing all fasta files\n",
    "print(fasta_files)"
   ]
  },
  {
   "cell_type": "code",
   "execution_count": 37,
   "id": "07c4c258",
   "metadata": {
    "execution": {
     "iopub.execute_input": "2024-06-24T19:03:26.474163Z",
     "iopub.status.busy": "2024-06-24T19:03:26.473306Z",
     "iopub.status.idle": "2024-06-24T19:03:26.479481Z",
     "shell.execute_reply": "2024-06-24T19:03:26.478218Z",
     "shell.execute_reply.started": "2024-06-24T19:03:26.474123Z"
    }
   },
   "outputs": [],
   "source": [
    "#helper function\n",
    "def dump_to_file(protein_id , sequence):\n",
    "    with open (out_file,\"a\") as f:\n",
    "        f.write(protein_id + \",\" + sequence + \"\\n\")  #writes protein id and sequence into the text file"
   ]
  },
  {
   "cell_type": "code",
   "execution_count": 38,
   "id": "34aa16f6",
   "metadata": {
    "execution": {
     "iopub.execute_input": "2024-06-24T19:03:38.179410Z",
     "iopub.status.busy": "2024-06-24T19:03:38.178967Z",
     "iopub.status.idle": "2024-06-24T19:03:38.736884Z",
     "shell.execute_reply": "2024-06-24T19:03:38.735763Z",
     "shell.execute_reply.started": "2024-06-24T19:03:38.179373Z"
    }
   },
   "outputs": [
    {
     "name": "stdout",
     "output_type": "stream",
     "text": [
      "Converting: /kaggle/input/protein-dataset/all-human-0001.fasta\n"
     ]
    }
   ],
   "source": [
    "for fname in fasta_files:\n",
    "    print(\"Converting: %s\" % fname)\n",
    "\n",
    "    with open (fname , \"r\") as f:\n",
    "        protein_seq = ''\n",
    "        protein_id = ''\n",
    "\n",
    "        for line in f:\n",
    "            \n",
    "            # matching the sequence >[two character]|[alphanumeric chars]|[other stuff]\n",
    "            match = re.search(r'^>([a-z]{2})\\|([A-Z0-9]*)\\|', line)\n",
    "            if match:\n",
    "\n",
    "                if protein_id != '':\n",
    "                    dump_to_file(protein_id,protein_seq)\n",
    "\n",
    "                num_proteins_done +=1\n",
    "                if num_proteins_done > 10000: break  #extracting 10,000 proteins only\n",
    "\n",
    "\n",
    "                # starting a new sequence \n",
    "                protein_id = match.group(2)  # group 2 is ([A-Z0-9]*) which is the protein sequence\n",
    "                protein_seq = ''   \n",
    "\n",
    "\n",
    "            else:\n",
    "                protein_seq += line.strip() # appending  the protein sqnce , strip() for any empty spaces\n",
    "                \n",
    "                \n",
    "        if protein_id != '':\n",
    "            dump_to_file(protein_id , protein_seq)"
   ]
  },
  {
   "cell_type": "code",
   "execution_count": 39,
   "id": "b2f465c6",
   "metadata": {
    "execution": {
     "iopub.execute_input": "2024-06-24T19:03:41.514766Z",
     "iopub.status.busy": "2024-06-24T19:03:41.514229Z",
     "iopub.status.idle": "2024-06-24T19:03:41.521696Z",
     "shell.execute_reply": "2024-06-24T19:03:41.520296Z",
     "shell.execute_reply.started": "2024-06-24T19:03:41.514721Z"
    }
   },
   "outputs": [
    {
     "name": "stdout",
     "output_type": "stream",
     "text": [
      "Converting function\n",
      "/kaggle/working/protein-functions-2024-06-24-190318.txt\n"
     ]
    }
   ],
   "source": [
    "# separating proteins with 00005524 ATP binding\n",
    "print(\"Converting function\")\n",
    "#file to store proteins doing ATP\n",
    "output_file_fns = os.path.join(\"/kaggle/working\" , \"protein-functions-\" + st + \".txt\")\n",
    "\n",
    "print(output_file_fns)\n",
    "\n",
    "target_function = ['0005524']  # ATP binding function"
   ]
  },
  {
   "cell_type": "code",
   "execution_count": 40,
   "id": "ae6d0853",
   "metadata": {
    "execution": {
     "iopub.execute_input": "2024-06-24T19:03:46.079636Z",
     "iopub.status.busy": "2024-06-24T19:03:46.079136Z",
     "iopub.status.idle": "2024-06-24T19:03:46.086299Z",
     "shell.execute_reply": "2024-06-24T19:03:46.085071Z",
     "shell.execute_reply.started": "2024-06-24T19:03:46.079597Z"
    }
   },
   "outputs": [
    {
     "name": "stdout",
     "output_type": "stream",
     "text": [
      "['/kaggle/input/protein-dataset/all-human-0001-annotations.txt']\n"
     ]
    }
   ],
   "source": [
    "annot_files = glob.glob(scrape_dir + \"/*annotations.txt\")\n",
    "print(annot_files)"
   ]
  },
  {
   "cell_type": "code",
   "execution_count": 41,
   "id": "21746387",
   "metadata": {
    "execution": {
     "iopub.execute_input": "2024-06-24T19:04:06.060060Z",
     "iopub.status.busy": "2024-06-24T19:04:06.059655Z",
     "iopub.status.idle": "2024-06-24T19:04:06.260973Z",
     "shell.execute_reply": "2024-06-24T19:04:06.259722Z",
     "shell.execute_reply.started": "2024-06-24T19:04:06.060026Z"
    }
   },
   "outputs": [
    {
     "name": "stdout",
     "output_type": "stream",
     "text": [
      "['P27361', 'P53779', 'Q9UHC1', 'Q9NYL2', 'O15440', 'P33527', 'Q92887', 'O15438', 'O15439', 'Q5T3U5']\n"
     ]
    }
   ],
   "source": [
    "has_function = []\n",
    "for fname in annot_files:\n",
    "    with open(fname , \"r\") as f:\n",
    "        for line in f:\n",
    "            match = re.search(r'([A-Z0-9]*)\\sGO:(.*);\\sF:.*;', line)\n",
    "\n",
    "            if match:\n",
    "                # getting the match\n",
    "                protein_id = match.group(1)\n",
    "                function = match.group(2)\n",
    "\n",
    "\n",
    "                if function not in target_function:\n",
    "                    continue\n",
    "\n",
    "                has_function.append(protein_id)\n",
    "\n",
    "   \n",
    "    with open(output_file_fns,\"w\") as fp:\n",
    "        json.dump(has_function,fp)\n",
    "\n",
    "\n",
    "    # look at the hash_function\n",
    "    print(has_function[:10])"
   ]
  },
  {
   "cell_type": "markdown",
   "id": "017ffde5",
   "metadata": {},
   "source": [
    "## Loading Data and Getting the Shapes Right"
   ]
  },
  {
   "cell_type": "code",
   "execution_count": 173,
   "id": "7849e602",
   "metadata": {
    "execution": {
     "iopub.execute_input": "2024-06-24T19:51:23.203870Z",
     "iopub.status.busy": "2024-06-24T19:51:23.202796Z",
     "iopub.status.idle": "2024-06-24T19:51:23.210255Z",
     "shell.execute_reply": "2024-06-24T19:51:23.208961Z",
     "shell.execute_reply.started": "2024-06-24T19:51:23.203820Z"
    }
   },
   "outputs": [],
   "source": [
    "import numpy as np\n",
    "np.random.seed(1337)\n",
    "\n",
    "import json\n",
    "import os\n",
    "\n",
    "from keras.preprocessing import sequence\n",
    "import warnings\n",
    "warnings.filterwarnings('ignore')"
   ]
  },
  {
   "cell_type": "code",
   "execution_count": 48,
   "id": "ac642b7a",
   "metadata": {
    "execution": {
     "iopub.execute_input": "2024-06-24T19:07:56.350181Z",
     "iopub.status.busy": "2024-06-24T19:07:56.349781Z",
     "iopub.status.idle": "2024-06-24T19:07:56.355201Z",
     "shell.execute_reply": "2024-06-24T19:07:56.354073Z",
     "shell.execute_reply.started": "2024-06-24T19:07:56.350149Z"
    }
   },
   "outputs": [],
   "source": [
    "sequence_file = os.path.join(\"/kaggle/working\",\"protein-seqs-2024-06-24-190318.txt\")\n",
    "functions_file = os.path.join(\"/kaggle/working\",\"protein-functions-2024-06-24-190318.txt\")"
   ]
  },
  {
   "cell_type": "code",
   "execution_count": 54,
   "id": "747c6fa1",
   "metadata": {
    "execution": {
     "iopub.execute_input": "2024-06-24T19:09:23.492567Z",
     "iopub.status.busy": "2024-06-24T19:09:23.492030Z",
     "iopub.status.idle": "2024-06-24T19:09:23.499918Z",
     "shell.execute_reply": "2024-06-24T19:09:23.498719Z",
     "shell.execute_reply.started": "2024-06-24T19:09:23.492525Z"
    }
   },
   "outputs": [],
   "source": [
    "with open(functions_file) as fn_file:\n",
    "    has_function = json.load(fn_file)"
   ]
  },
  {
   "cell_type": "code",
   "execution_count": 55,
   "id": "a36f1fff",
   "metadata": {
    "execution": {
     "iopub.execute_input": "2024-06-24T19:09:25.430207Z",
     "iopub.status.busy": "2024-06-24T19:09:25.429804Z",
     "iopub.status.idle": "2024-06-24T19:09:25.435204Z",
     "shell.execute_reply": "2024-06-24T19:09:25.434103Z",
     "shell.execute_reply.started": "2024-06-24T19:09:25.430175Z"
    }
   },
   "outputs": [],
   "source": [
    "max_sequence_size = 500  #maximum size sequence is 500 , other than that are ignored"
   ]
  },
  {
   "cell_type": "code",
   "execution_count": 56,
   "id": "050af5d7",
   "metadata": {
    "execution": {
     "iopub.execute_input": "2024-06-24T19:09:26.124921Z",
     "iopub.status.busy": "2024-06-24T19:09:26.123969Z",
     "iopub.status.idle": "2024-06-24T19:09:26.129850Z",
     "shell.execute_reply": "2024-06-24T19:09:26.128739Z",
     "shell.execute_reply.started": "2024-06-24T19:09:26.124882Z"
    }
   },
   "outputs": [],
   "source": [
    "X = []  #sequences\n",
    "Y = []  #output class: 1 if protein has function , 0 if not"
   ]
  },
  {
   "cell_type": "code",
   "execution_count": 57,
   "id": "e7868521",
   "metadata": {
    "execution": {
     "iopub.execute_input": "2024-06-24T19:09:29.017718Z",
     "iopub.status.busy": "2024-06-24T19:09:29.016612Z",
     "iopub.status.idle": "2024-06-24T19:09:29.021941Z",
     "shell.execute_reply": "2024-06-24T19:09:29.020792Z",
     "shell.execute_reply.started": "2024-06-24T19:09:29.017677Z"
    }
   },
   "outputs": [],
   "source": [
    "# for seeing how many example we have found for each class\n",
    "pos_examples = 0\n",
    "neg_examples = 0"
   ]
  },
  {
   "cell_type": "code",
   "execution_count": 58,
   "id": "85fdb5f5",
   "metadata": {
    "execution": {
     "iopub.execute_input": "2024-06-24T19:09:33.076810Z",
     "iopub.status.busy": "2024-06-24T19:09:33.076363Z",
     "iopub.status.idle": "2024-06-24T19:09:33.569112Z",
     "shell.execute_reply": "2024-06-24T19:09:33.567993Z",
     "shell.execute_reply.started": "2024-06-24T19:09:33.076776Z"
    }
   },
   "outputs": [],
   "source": [
    "with open(sequence_file) as f:\n",
    "    for line in f:\n",
    "        ln = line.split(',')\n",
    "        protein_id = ln[0].strip()\n",
    "        seq = ln[1].strip()\n",
    "\n",
    "        if len(seq) >= max_sequence_size:\n",
    "            continue\n",
    "\n",
    "        #print(line)\n",
    "\n",
    "        X.append(seq)\n",
    "\n",
    "        if protein_id in has_function:\n",
    "            Y.append(1)\n",
    "            pos_examples += 1\n",
    "        else:\n",
    "            Y.append(0)\n",
    "            neg_examples += 1"
   ]
  },
  {
   "cell_type": "code",
   "execution_count": 59,
   "id": "8141b6f4",
   "metadata": {
    "execution": {
     "iopub.execute_input": "2024-06-24T19:09:37.922587Z",
     "iopub.status.busy": "2024-06-24T19:09:37.922168Z",
     "iopub.status.idle": "2024-06-24T19:09:37.928011Z",
     "shell.execute_reply": "2024-06-24T19:09:37.926925Z",
     "shell.execute_reply.started": "2024-06-24T19:09:37.922556Z"
    }
   },
   "outputs": [
    {
     "name": "stdout",
     "output_type": "stream",
     "text": [
      "Positive Examples:  220\n",
      "Negative Examples:  5765\n"
     ]
    }
   ],
   "source": [
    "print(\"Positive Examples: \",pos_examples)\n",
    "print(\"Negative Examples: \",neg_examples)"
   ]
  },
  {
   "cell_type": "code",
   "execution_count": 60,
   "id": "aafeab3b",
   "metadata": {
    "execution": {
     "iopub.execute_input": "2024-06-24T19:10:13.612599Z",
     "iopub.status.busy": "2024-06-24T19:10:13.612107Z",
     "iopub.status.idle": "2024-06-24T19:10:13.619503Z",
     "shell.execute_reply": "2024-06-24T19:10:13.618217Z",
     "shell.execute_reply.started": "2024-06-24T19:10:13.612561Z"
    }
   },
   "outputs": [],
   "source": [
    "def sequence_to_indices(sequence):\n",
    "    \n",
    "    \n",
    "        #Converting amino acids alphabet to numerics , '_' character represents no amino acid (for the purpose of padding) \"\"\"\n",
    "    try:\n",
    "        acid_letters = ['_','A','C','D','E','F','G','H','I','K',\n",
    "                        'L','M','N','P','Q','R','S','T','U','V','W','Y','Z']\n",
    "        indices = [acid_letters.index(c) for c in list(sequence)]\n",
    "        return indices\n",
    "    except Exception:\n",
    "        print(sequence)\n",
    "        raise Exception"
   ]
  },
  {
   "cell_type": "code",
   "execution_count": null,
   "id": "148b0235",
   "metadata": {},
   "outputs": [],
   "source": []
  },
  {
   "cell_type": "code",
   "execution_count": 61,
   "id": "2b652f85",
   "metadata": {
    "execution": {
     "iopub.execute_input": "2024-06-24T19:10:22.297407Z",
     "iopub.status.busy": "2024-06-24T19:10:22.296215Z",
     "iopub.status.idle": "2024-06-24T19:10:22.939565Z",
     "shell.execute_reply": "2024-06-24T19:10:22.938485Z",
     "shell.execute_reply.started": "2024-06-24T19:10:22.297354Z"
    }
   },
   "outputs": [],
   "source": [
    "X_all = []  # for storing numeric values of amino acids\n",
    "for i in range(len(X)):\n",
    "    x = sequence_to_indices(X[i])\n",
    "    X_all.append(x)"
   ]
  },
  {
   "cell_type": "code",
   "execution_count": 62,
   "id": "7141f575",
   "metadata": {
    "execution": {
     "iopub.execute_input": "2024-06-24T19:10:27.253213Z",
     "iopub.status.busy": "2024-06-24T19:10:27.252795Z",
     "iopub.status.idle": "2024-06-24T19:10:27.376878Z",
     "shell.execute_reply": "2024-06-24T19:10:27.375592Z",
     "shell.execute_reply.started": "2024-06-24T19:10:27.253178Z"
    }
   },
   "outputs": [],
   "source": [
    "X_all = sequence.pad_sequences(X_all , maxlen = max_sequence_size) #padding the sequence to equal the size"
   ]
  },
  {
   "cell_type": "code",
   "execution_count": 197,
   "id": "912d6cda",
   "metadata": {},
   "outputs": [],
   "source": [
    "#X_all[0]"
   ]
  },
  {
   "cell_type": "code",
   "execution_count": 63,
   "id": "a9edffae",
   "metadata": {
    "execution": {
     "iopub.execute_input": "2024-06-24T19:10:30.648433Z",
     "iopub.status.busy": "2024-06-24T19:10:30.647993Z",
     "iopub.status.idle": "2024-06-24T19:10:30.660690Z",
     "shell.execute_reply": "2024-06-24T19:10:30.659480Z",
     "shell.execute_reply.started": "2024-06-24T19:10:30.648385Z"
    }
   },
   "outputs": [],
   "source": [
    "#converting list to np array\n",
    "X_all  = np.array(X_all)\n",
    "Y_all = np.array(Y)"
   ]
  },
  {
   "cell_type": "code",
   "execution_count": 200,
   "id": "e3945b8f",
   "metadata": {},
   "outputs": [],
   "source": [
    "# X_all[0]"
   ]
  },
  {
   "cell_type": "markdown",
   "id": "1032c00f",
   "metadata": {},
   "source": [
    "## Train ,Test and Split the Data"
   ]
  },
  {
   "cell_type": "code",
   "execution_count": 64,
   "id": "8856a8f2",
   "metadata": {
    "execution": {
     "iopub.execute_input": "2024-06-24T19:10:35.493378Z",
     "iopub.status.busy": "2024-06-24T19:10:35.492395Z",
     "iopub.status.idle": "2024-06-24T19:10:35.499351Z",
     "shell.execute_reply": "2024-06-24T19:10:35.498300Z",
     "shell.execute_reply.started": "2024-06-24T19:10:35.493334Z"
    }
   },
   "outputs": [
    {
     "name": "stdout",
     "output_type": "stream",
     "text": [
      "(5985, 500)\n",
      "(5985,)\n"
     ]
    }
   ],
   "source": [
    "print(X_all.shape)\n",
    "print(Y_all.shape)"
   ]
  },
  {
   "cell_type": "code",
   "execution_count": 65,
   "id": "0dfe9828",
   "metadata": {
    "execution": {
     "iopub.execute_input": "2024-06-24T19:10:41.241786Z",
     "iopub.status.busy": "2024-06-24T19:10:41.240713Z",
     "iopub.status.idle": "2024-06-24T19:10:41.246237Z",
     "shell.execute_reply": "2024-06-24T19:10:41.245094Z",
     "shell.execute_reply.started": "2024-06-24T19:10:41.241737Z"
    }
   },
   "outputs": [],
   "source": [
    "n = X_all.shape[0]  # number of datapoints"
   ]
  },
  {
   "cell_type": "code",
   "execution_count": 66,
   "id": "f09a41e9",
   "metadata": {
    "execution": {
     "iopub.execute_input": "2024-06-24T19:10:42.531675Z",
     "iopub.status.busy": "2024-06-24T19:10:42.531241Z",
     "iopub.status.idle": "2024-06-24T19:10:42.536840Z",
     "shell.execute_reply": "2024-06-24T19:10:42.535559Z",
     "shell.execute_reply.started": "2024-06-24T19:10:42.531642Z"
    }
   },
   "outputs": [],
   "source": [
    "# randomize to shuffle \n",
    "randomize = np.arange(n)"
   ]
  },
  {
   "cell_type": "code",
   "execution_count": 67,
   "id": "acace3fa",
   "metadata": {
    "execution": {
     "iopub.execute_input": "2024-06-24T19:10:46.241722Z",
     "iopub.status.busy": "2024-06-24T19:10:46.241281Z",
     "iopub.status.idle": "2024-06-24T19:10:46.246921Z",
     "shell.execute_reply": "2024-06-24T19:10:46.245693Z",
     "shell.execute_reply.started": "2024-06-24T19:10:46.241687Z"
    }
   },
   "outputs": [],
   "source": [
    "np.random.shuffle(randomize) # shuffling"
   ]
  },
  {
   "cell_type": "code",
   "execution_count": 68,
   "id": "879aaeb1",
   "metadata": {
    "execution": {
     "iopub.execute_input": "2024-06-24T19:10:46.728824Z",
     "iopub.status.busy": "2024-06-24T19:10:46.728402Z",
     "iopub.status.idle": "2024-06-24T19:10:46.738068Z",
     "shell.execute_reply": "2024-06-24T19:10:46.736877Z",
     "shell.execute_reply.started": "2024-06-24T19:10:46.728795Z"
    }
   },
   "outputs": [
    {
     "data": {
      "text/plain": [
       "array([1327, 2526, 3458, ...,  860,  189, 3223])"
      ]
     },
     "execution_count": 68,
     "metadata": {},
     "output_type": "execute_result"
    }
   ],
   "source": [
    "randomize"
   ]
  },
  {
   "cell_type": "code",
   "execution_count": 69,
   "id": "0b5fd321",
   "metadata": {
    "execution": {
     "iopub.execute_input": "2024-06-24T19:10:51.733198Z",
     "iopub.status.busy": "2024-06-24T19:10:51.732769Z",
     "iopub.status.idle": "2024-06-24T19:10:51.744220Z",
     "shell.execute_reply": "2024-06-24T19:10:51.743006Z",
     "shell.execute_reply.started": "2024-06-24T19:10:51.733157Z"
    }
   },
   "outputs": [],
   "source": [
    "X_all =  X_all[randomize]   #applying the shuffling to datapoints\n",
    "Y_all = Y_all[randomize]"
   ]
  },
  {
   "cell_type": "code",
   "execution_count": 70,
   "id": "d0c6262c",
   "metadata": {
    "execution": {
     "iopub.execute_input": "2024-06-24T19:10:55.737726Z",
     "iopub.status.busy": "2024-06-24T19:10:55.736510Z",
     "iopub.status.idle": "2024-06-24T19:10:55.744707Z",
     "shell.execute_reply": "2024-06-24T19:10:55.743509Z",
     "shell.execute_reply.started": "2024-06-24T19:10:55.737670Z"
    }
   },
   "outputs": [],
   "source": [
    "test_split = round(n* 2/3) # splitting data on 2/3 ratio\n",
    "X_train = X_all[:test_split] #2/3 for training of datapoints\n",
    "Y_train = Y_all[:test_split]   #training labels\n",
    "X_test = X_all[test_split:]  # testing datapoints\n",
    "Y_test = Y_all[test_split:]  #testing labels "
   ]
  },
  {
   "cell_type": "code",
   "execution_count": 71,
   "id": "0f887c25",
   "metadata": {
    "execution": {
     "iopub.execute_input": "2024-06-24T19:10:56.073521Z",
     "iopub.status.busy": "2024-06-24T19:10:56.072488Z",
     "iopub.status.idle": "2024-06-24T19:10:56.078924Z",
     "shell.execute_reply": "2024-06-24T19:10:56.077776Z",
     "shell.execute_reply.started": "2024-06-24T19:10:56.073474Z"
    }
   },
   "outputs": [
    {
     "name": "stdout",
     "output_type": "stream",
     "text": [
      "(3990, 500)\n",
      "(3990,)\n",
      "(1995, 500)\n",
      "(1995,)\n"
     ]
    }
   ],
   "source": [
    "print(X_train.shape)\n",
    "print(Y_train.shape)\n",
    "print(X_test.shape)\n",
    "print(Y_test.shape)"
   ]
  },
  {
   "cell_type": "markdown",
   "id": "b221a6c2",
   "metadata": {},
   "source": [
    "## Understanding Shapes"
   ]
  },
  {
   "cell_type": "code",
   "execution_count": 72,
   "id": "2b92c9a9",
   "metadata": {
    "execution": {
     "iopub.execute_input": "2024-06-24T19:11:04.412386Z",
     "iopub.status.busy": "2024-06-24T19:11:04.411323Z",
     "iopub.status.idle": "2024-06-24T19:11:04.418486Z",
     "shell.execute_reply": "2024-06-24T19:11:04.417475Z",
     "shell.execute_reply.started": "2024-06-24T19:11:04.412345Z"
    }
   },
   "outputs": [
    {
     "data": {
      "text/plain": [
       "'      ->>>[ .   .   .   .   .  upto 5 ]<<<-  total 5 datapoints        Initial Shape (5 , )  '"
      ]
     },
     "execution_count": 72,
     "metadata": {},
     "output_type": "execute_result"
    }
   ],
   "source": [
    "\"      ->>>[ .   .   .   .   .  upto 5 ]<<<-  total 5 datapoints        Initial Shape (5 , )  \""
   ]
  },
  {
   "cell_type": "code",
   "execution_count": 73,
   "id": "bda139e7",
   "metadata": {
    "execution": {
     "iopub.execute_input": "2024-06-24T19:11:04.781592Z",
     "iopub.status.busy": "2024-06-24T19:11:04.780745Z",
     "iopub.status.idle": "2024-06-24T19:11:04.788387Z",
     "shell.execute_reply": "2024-06-24T19:11:04.787159Z",
     "shell.execute_reply.started": "2024-06-24T19:11:04.781543Z"
    }
   },
   "outputs": [
    {
     "data": {
      "text/plain": [
       "' ->>>[   ->>[ . . . . . . . . . . upto 500]<<-  []  []  []   []   ]<<<-    each datapoints has 500 elements(amino acids)\\n\\nso the shape becomes    Shape: (5 , 500 ) '"
      ]
     },
     "execution_count": 73,
     "metadata": {},
     "output_type": "execute_result"
    }
   ],
   "source": [
    "\"\"\" ->>>[   ->>[ . . . . . . . . . . upto 500]<<-  []  []  []   []   ]<<<-    each datapoints has 500 elements(amino acids)\n",
    "\n",
    "so the shape becomes    Shape: (5 , 500 ) \"\"\"  "
   ]
  },
  {
   "cell_type": "code",
   "execution_count": 74,
   "id": "46ef128a",
   "metadata": {
    "execution": {
     "iopub.execute_input": "2024-06-24T19:11:07.385986Z",
     "iopub.status.busy": "2024-06-24T19:11:07.385538Z",
     "iopub.status.idle": "2024-06-24T19:11:07.392801Z",
     "shell.execute_reply": "2024-06-24T19:11:07.391714Z",
     "shell.execute_reply.started": "2024-06-24T19:11:07.385951Z"
    }
   },
   "outputs": [
    {
     "data": {
      "text/plain": [
       "'\\n\\n->>>[   ->>[ [....23] [.....23] [....23] . . . . . . . upto 500]<<-  []  []  []   []   ]<<<-\\n\\nNow  in the 5 data-points, there are 500 elements, these 500 elements are the protein vectors of size 23\\n\\nwe changed  each amino acid into single hot vector\\n\\nThe shape is now Shape: ( 5 , 500 , 23 )\\n'"
      ]
     },
     "execution_count": 74,
     "metadata": {},
     "output_type": "execute_result"
    }
   ],
   "source": [
    "\"\"\"\n",
    "\n",
    "->>>[   ->>[ [....23] [.....23] [....23] . . . . . . . upto 500]<<-  []  []  []   []   ]<<<-\n",
    "\n",
    "Now  in the 5 data-points, there are 500 elements, these 500 elements are the protein vectors of size 23\n",
    "\n",
    "we changed  each amino acid into single hot vector\n",
    "\n",
    "The shape is now Shape: ( 5 , 500 , 23 )\n",
    "\"\"\""
   ]
  },
  {
   "cell_type": "markdown",
   "id": "7bb4d6d0",
   "metadata": {},
   "source": [
    "## Setting up the Model"
   ]
  },
  {
   "cell_type": "code",
   "execution_count": 89,
   "id": "03634bfe",
   "metadata": {
    "execution": {
     "iopub.execute_input": "2024-06-24T19:20:46.322803Z",
     "iopub.status.busy": "2024-06-24T19:20:46.322369Z",
     "iopub.status.idle": "2024-06-24T19:20:46.328649Z",
     "shell.execute_reply": "2024-06-24T19:20:46.327388Z",
     "shell.execute_reply.started": "2024-06-24T19:20:46.322769Z"
    }
   },
   "outputs": [],
   "source": [
    "from tensorflow.keras.layers import Embedding , Input , Flatten , Dense , Activation , Conv1D , MaxPooling1D, GlobalMaxPooling1D,Dropout\n",
    "from tensorflow.keras.models import Model , Sequential\n",
    "from tensorflow.keras.optimizers import SGD"
   ]
  },
  {
   "cell_type": "code",
   "execution_count": 155,
   "id": "411454b5",
   "metadata": {
    "execution": {
     "iopub.execute_input": "2024-06-24T19:40:49.074385Z",
     "iopub.status.busy": "2024-06-24T19:40:49.073336Z",
     "iopub.status.idle": "2024-06-24T19:40:49.079564Z",
     "shell.execute_reply": "2024-06-24T19:40:49.078182Z",
     "shell.execute_reply.started": "2024-06-24T19:40:49.074343Z"
    }
   },
   "outputs": [],
   "source": [
    "num_amino_acids = 23\n",
    "embedding_dims = 10\n",
    "nb_epochs = 50\n",
    "batch_size = 128"
   ]
  },
  {
   "cell_type": "code",
   "execution_count": 130,
   "id": "a2b96107",
   "metadata": {
    "execution": {
     "iopub.execute_input": "2024-06-24T19:32:04.802752Z",
     "iopub.status.busy": "2024-06-24T19:32:04.802296Z",
     "iopub.status.idle": "2024-06-24T19:32:04.823923Z",
     "shell.execute_reply": "2024-06-24T19:32:04.822835Z",
     "shell.execute_reply.started": "2024-06-24T19:32:04.802717Z"
    }
   },
   "outputs": [],
   "source": []
  },
  {
   "cell_type": "code",
   "execution_count": 156,
   "id": "dcea9298",
   "metadata": {
    "execution": {
     "iopub.execute_input": "2024-06-24T19:41:26.423405Z",
     "iopub.status.busy": "2024-06-24T19:41:26.422974Z",
     "iopub.status.idle": "2024-06-24T19:41:26.494521Z",
     "shell.execute_reply": "2024-06-24T19:41:26.493620Z",
     "shell.execute_reply.started": "2024-06-24T19:41:26.423369Z"
    }
   },
   "outputs": [],
   "source": [
    "model = Sequential()\n",
    "\n",
    "model.add(Embedding(num_amino_acids , embedding_dims , input_shape = (max_sequence_size,)))  # we have set an embedding layer\n",
    "\n",
    "model.add(Dense(128, activation='sigmoid'))\n",
    "\n",
    "model.add(Dense(64, activation='sigmoid'))\n",
    "\n",
    "model.add(Flatten()) # for combining dimensions into a single vector\n",
    "\n",
    "model.add(Dense(25 , activation = 'sigmoid'))\n",
    "\n",
    "model.add(Dense(1 , activation = 'sigmoid'))"
   ]
  },
  {
   "cell_type": "code",
   "execution_count": 157,
   "id": "30117fd5",
   "metadata": {
    "execution": {
     "iopub.execute_input": "2024-06-24T19:41:27.375393Z",
     "iopub.status.busy": "2024-06-24T19:41:27.374218Z",
     "iopub.status.idle": "2024-06-24T19:41:27.385644Z",
     "shell.execute_reply": "2024-06-24T19:41:27.384193Z",
     "shell.execute_reply.started": "2024-06-24T19:41:27.375351Z"
    }
   },
   "outputs": [],
   "source": [
    "model.compile(loss='binary_crossentropy' ,\n",
    "             optimizer = SGD() ,\n",
    "             metrics = ['accuracy'])"
   ]
  },
  {
   "cell_type": "code",
   "execution_count": 158,
   "id": "fb25b338",
   "metadata": {
    "execution": {
     "iopub.execute_input": "2024-06-24T19:41:30.421229Z",
     "iopub.status.busy": "2024-06-24T19:41:30.420822Z",
     "iopub.status.idle": "2024-06-24T19:41:30.443656Z",
     "shell.execute_reply": "2024-06-24T19:41:30.442598Z",
     "shell.execute_reply.started": "2024-06-24T19:41:30.421194Z"
    }
   },
   "outputs": [
    {
     "data": {
      "text/html": [
       "<pre style=\"white-space:pre;overflow-x:auto;line-height:normal;font-family:Menlo,'DejaVu Sans Mono',consolas,'Courier New',monospace\"><span style=\"font-weight: bold\">Model: \"sequential_15\"</span>\n",
       "</pre>\n"
      ],
      "text/plain": [
       "\u001b[1mModel: \"sequential_15\"\u001b[0m\n"
      ]
     },
     "metadata": {},
     "output_type": "display_data"
    },
    {
     "data": {
      "text/html": [
       "<pre style=\"white-space:pre;overflow-x:auto;line-height:normal;font-family:Menlo,'DejaVu Sans Mono',consolas,'Courier New',monospace\">┏━━━━━━━━━━━━━━━━━━━━━━━━━━━━━━━━━┳━━━━━━━━━━━━━━━━━━━━━━━━┳━━━━━━━━━━━━━━━┓\n",
       "┃<span style=\"font-weight: bold\"> Layer (type)                    </span>┃<span style=\"font-weight: bold\"> Output Shape           </span>┃<span style=\"font-weight: bold\">       Param # </span>┃\n",
       "┡━━━━━━━━━━━━━━━━━━━━━━━━━━━━━━━━━╇━━━━━━━━━━━━━━━━━━━━━━━━╇━━━━━━━━━━━━━━━┩\n",
       "│ embedding_18 (<span style=\"color: #0087ff; text-decoration-color: #0087ff\">Embedding</span>)        │ (<span style=\"color: #00d7ff; text-decoration-color: #00d7ff\">None</span>, <span style=\"color: #00af00; text-decoration-color: #00af00\">500</span>, <span style=\"color: #00af00; text-decoration-color: #00af00\">10</span>)        │           <span style=\"color: #00af00; text-decoration-color: #00af00\">230</span> │\n",
       "├─────────────────────────────────┼────────────────────────┼───────────────┤\n",
       "│ dense_51 (<span style=\"color: #0087ff; text-decoration-color: #0087ff\">Dense</span>)                │ (<span style=\"color: #00d7ff; text-decoration-color: #00d7ff\">None</span>, <span style=\"color: #00af00; text-decoration-color: #00af00\">500</span>, <span style=\"color: #00af00; text-decoration-color: #00af00\">128</span>)       │         <span style=\"color: #00af00; text-decoration-color: #00af00\">1,408</span> │\n",
       "├─────────────────────────────────┼────────────────────────┼───────────────┤\n",
       "│ dense_52 (<span style=\"color: #0087ff; text-decoration-color: #0087ff\">Dense</span>)                │ (<span style=\"color: #00d7ff; text-decoration-color: #00d7ff\">None</span>, <span style=\"color: #00af00; text-decoration-color: #00af00\">500</span>, <span style=\"color: #00af00; text-decoration-color: #00af00\">64</span>)        │         <span style=\"color: #00af00; text-decoration-color: #00af00\">8,256</span> │\n",
       "├─────────────────────────────────┼────────────────────────┼───────────────┤\n",
       "│ flatten_15 (<span style=\"color: #0087ff; text-decoration-color: #0087ff\">Flatten</span>)            │ (<span style=\"color: #00d7ff; text-decoration-color: #00d7ff\">None</span>, <span style=\"color: #00af00; text-decoration-color: #00af00\">32000</span>)          │             <span style=\"color: #00af00; text-decoration-color: #00af00\">0</span> │\n",
       "├─────────────────────────────────┼────────────────────────┼───────────────┤\n",
       "│ dense_53 (<span style=\"color: #0087ff; text-decoration-color: #0087ff\">Dense</span>)                │ (<span style=\"color: #00d7ff; text-decoration-color: #00d7ff\">None</span>, <span style=\"color: #00af00; text-decoration-color: #00af00\">25</span>)             │       <span style=\"color: #00af00; text-decoration-color: #00af00\">800,025</span> │\n",
       "├─────────────────────────────────┼────────────────────────┼───────────────┤\n",
       "│ dense_54 (<span style=\"color: #0087ff; text-decoration-color: #0087ff\">Dense</span>)                │ (<span style=\"color: #00d7ff; text-decoration-color: #00d7ff\">None</span>, <span style=\"color: #00af00; text-decoration-color: #00af00\">1</span>)              │            <span style=\"color: #00af00; text-decoration-color: #00af00\">26</span> │\n",
       "└─────────────────────────────────┴────────────────────────┴───────────────┘\n",
       "</pre>\n"
      ],
      "text/plain": [
       "┏━━━━━━━━━━━━━━━━━━━━━━━━━━━━━━━━━┳━━━━━━━━━━━━━━━━━━━━━━━━┳━━━━━━━━━━━━━━━┓\n",
       "┃\u001b[1m \u001b[0m\u001b[1mLayer (type)                   \u001b[0m\u001b[1m \u001b[0m┃\u001b[1m \u001b[0m\u001b[1mOutput Shape          \u001b[0m\u001b[1m \u001b[0m┃\u001b[1m \u001b[0m\u001b[1m      Param #\u001b[0m\u001b[1m \u001b[0m┃\n",
       "┡━━━━━━━━━━━━━━━━━━━━━━━━━━━━━━━━━╇━━━━━━━━━━━━━━━━━━━━━━━━╇━━━━━━━━━━━━━━━┩\n",
       "│ embedding_18 (\u001b[38;5;33mEmbedding\u001b[0m)        │ (\u001b[38;5;45mNone\u001b[0m, \u001b[38;5;34m500\u001b[0m, \u001b[38;5;34m10\u001b[0m)        │           \u001b[38;5;34m230\u001b[0m │\n",
       "├─────────────────────────────────┼────────────────────────┼───────────────┤\n",
       "│ dense_51 (\u001b[38;5;33mDense\u001b[0m)                │ (\u001b[38;5;45mNone\u001b[0m, \u001b[38;5;34m500\u001b[0m, \u001b[38;5;34m128\u001b[0m)       │         \u001b[38;5;34m1,408\u001b[0m │\n",
       "├─────────────────────────────────┼────────────────────────┼───────────────┤\n",
       "│ dense_52 (\u001b[38;5;33mDense\u001b[0m)                │ (\u001b[38;5;45mNone\u001b[0m, \u001b[38;5;34m500\u001b[0m, \u001b[38;5;34m64\u001b[0m)        │         \u001b[38;5;34m8,256\u001b[0m │\n",
       "├─────────────────────────────────┼────────────────────────┼───────────────┤\n",
       "│ flatten_15 (\u001b[38;5;33mFlatten\u001b[0m)            │ (\u001b[38;5;45mNone\u001b[0m, \u001b[38;5;34m32000\u001b[0m)          │             \u001b[38;5;34m0\u001b[0m │\n",
       "├─────────────────────────────────┼────────────────────────┼───────────────┤\n",
       "│ dense_53 (\u001b[38;5;33mDense\u001b[0m)                │ (\u001b[38;5;45mNone\u001b[0m, \u001b[38;5;34m25\u001b[0m)             │       \u001b[38;5;34m800,025\u001b[0m │\n",
       "├─────────────────────────────────┼────────────────────────┼───────────────┤\n",
       "│ dense_54 (\u001b[38;5;33mDense\u001b[0m)                │ (\u001b[38;5;45mNone\u001b[0m, \u001b[38;5;34m1\u001b[0m)              │            \u001b[38;5;34m26\u001b[0m │\n",
       "└─────────────────────────────────┴────────────────────────┴───────────────┘\n"
      ]
     },
     "metadata": {},
     "output_type": "display_data"
    },
    {
     "data": {
      "text/html": [
       "<pre style=\"white-space:pre;overflow-x:auto;line-height:normal;font-family:Menlo,'DejaVu Sans Mono',consolas,'Courier New',monospace\"><span style=\"font-weight: bold\"> Total params: </span><span style=\"color: #00af00; text-decoration-color: #00af00\">809,945</span> (3.09 MB)\n",
       "</pre>\n"
      ],
      "text/plain": [
       "\u001b[1m Total params: \u001b[0m\u001b[38;5;34m809,945\u001b[0m (3.09 MB)\n"
      ]
     },
     "metadata": {},
     "output_type": "display_data"
    },
    {
     "data": {
      "text/html": [
       "<pre style=\"white-space:pre;overflow-x:auto;line-height:normal;font-family:Menlo,'DejaVu Sans Mono',consolas,'Courier New',monospace\"><span style=\"font-weight: bold\"> Trainable params: </span><span style=\"color: #00af00; text-decoration-color: #00af00\">809,945</span> (3.09 MB)\n",
       "</pre>\n"
      ],
      "text/plain": [
       "\u001b[1m Trainable params: \u001b[0m\u001b[38;5;34m809,945\u001b[0m (3.09 MB)\n"
      ]
     },
     "metadata": {},
     "output_type": "display_data"
    },
    {
     "data": {
      "text/html": [
       "<pre style=\"white-space:pre;overflow-x:auto;line-height:normal;font-family:Menlo,'DejaVu Sans Mono',consolas,'Courier New',monospace\"><span style=\"font-weight: bold\"> Non-trainable params: </span><span style=\"color: #00af00; text-decoration-color: #00af00\">0</span> (0.00 B)\n",
       "</pre>\n"
      ],
      "text/plain": [
       "\u001b[1m Non-trainable params: \u001b[0m\u001b[38;5;34m0\u001b[0m (0.00 B)\n"
      ]
     },
     "metadata": {},
     "output_type": "display_data"
    }
   ],
   "source": [
    "model.summary()  # ( None , 500 , 10 )  None represents the batch size , 500 = total amino acids , 10 is the each amino acid vector which reduced from 23 to 10"
   ]
  },
  {
   "cell_type": "code",
   "execution_count": 159,
   "id": "f77005ba",
   "metadata": {
    "execution": {
     "iopub.execute_input": "2024-06-24T19:41:44.155244Z",
     "iopub.status.busy": "2024-06-24T19:41:44.154471Z",
     "iopub.status.idle": "2024-06-24T19:45:15.752609Z",
     "shell.execute_reply": "2024-06-24T19:45:15.751330Z",
     "shell.execute_reply.started": "2024-06-24T19:41:44.155199Z"
    }
   },
   "outputs": [
    {
     "name": "stdout",
     "output_type": "stream",
     "text": [
      "Epoch 1/50\n",
      "\u001b[1m32/32\u001b[0m \u001b[32m━━━━━━━━━━━━━━━━━━━━\u001b[0m\u001b[37m\u001b[0m \u001b[1m5s\u001b[0m 141ms/step - accuracy: 0.8469 - loss: 0.3568 - val_accuracy: 0.9639 - val_loss: 0.1782\n",
      "Epoch 2/50\n",
      "\u001b[1m32/32\u001b[0m \u001b[32m━━━━━━━━━━━━━━━━━━━━\u001b[0m\u001b[37m\u001b[0m \u001b[1m4s\u001b[0m 130ms/step - accuracy: 0.9644 - loss: 0.1749 - val_accuracy: 0.9639 - val_loss: 0.1701\n",
      "Epoch 3/50\n",
      "\u001b[1m32/32\u001b[0m \u001b[32m━━━━━━━━━━━━━━━━━━━━\u001b[0m\u001b[37m\u001b[0m \u001b[1m4s\u001b[0m 132ms/step - accuracy: 0.9593 - loss: 0.1805 - val_accuracy: 0.9639 - val_loss: 0.1655\n",
      "Epoch 4/50\n",
      "\u001b[1m32/32\u001b[0m \u001b[32m━━━━━━━━━━━━━━━━━━━━\u001b[0m\u001b[37m\u001b[0m \u001b[1m4s\u001b[0m 131ms/step - accuracy: 0.9614 - loss: 0.1715 - val_accuracy: 0.9639 - val_loss: 0.1625\n",
      "Epoch 5/50\n",
      "\u001b[1m32/32\u001b[0m \u001b[32m━━━━━━━━━━━━━━━━━━━━\u001b[0m\u001b[37m\u001b[0m \u001b[1m4s\u001b[0m 128ms/step - accuracy: 0.9642 - loss: 0.1612 - val_accuracy: 0.9639 - val_loss: 0.1606\n",
      "Epoch 6/50\n",
      "\u001b[1m32/32\u001b[0m \u001b[32m━━━━━━━━━━━━━━━━━━━━\u001b[0m\u001b[37m\u001b[0m \u001b[1m4s\u001b[0m 126ms/step - accuracy: 0.9580 - loss: 0.1769 - val_accuracy: 0.9639 - val_loss: 0.1593\n",
      "Epoch 7/50\n",
      "\u001b[1m32/32\u001b[0m \u001b[32m━━━━━━━━━━━━━━━━━━━━\u001b[0m\u001b[37m\u001b[0m \u001b[1m5s\u001b[0m 142ms/step - accuracy: 0.9664 - loss: 0.1520 - val_accuracy: 0.9639 - val_loss: 0.1583\n",
      "Epoch 8/50\n",
      "\u001b[1m32/32\u001b[0m \u001b[32m━━━━━━━━━━━━━━━━━━━━\u001b[0m\u001b[37m\u001b[0m \u001b[1m4s\u001b[0m 131ms/step - accuracy: 0.9632 - loss: 0.1602 - val_accuracy: 0.9639 - val_loss: 0.1576\n",
      "Epoch 9/50\n",
      "\u001b[1m32/32\u001b[0m \u001b[32m━━━━━━━━━━━━━━━━━━━━\u001b[0m\u001b[37m\u001b[0m \u001b[1m4s\u001b[0m 126ms/step - accuracy: 0.9628 - loss: 0.1607 - val_accuracy: 0.9639 - val_loss: 0.1570\n",
      "Epoch 10/50\n",
      "\u001b[1m32/32\u001b[0m \u001b[32m━━━━━━━━━━━━━━━━━━━━\u001b[0m\u001b[37m\u001b[0m \u001b[1m4s\u001b[0m 129ms/step - accuracy: 0.9611 - loss: 0.1654 - val_accuracy: 0.9639 - val_loss: 0.1566\n",
      "Epoch 11/50\n",
      "\u001b[1m32/32\u001b[0m \u001b[32m━━━━━━━━━━━━━━━━━━━━\u001b[0m\u001b[37m\u001b[0m \u001b[1m4s\u001b[0m 125ms/step - accuracy: 0.9626 - loss: 0.1605 - val_accuracy: 0.9639 - val_loss: 0.1564\n",
      "Epoch 12/50\n",
      "\u001b[1m32/32\u001b[0m \u001b[32m━━━━━━━━━━━━━━━━━━━━\u001b[0m\u001b[37m\u001b[0m \u001b[1m4s\u001b[0m 129ms/step - accuracy: 0.9633 - loss: 0.1582 - val_accuracy: 0.9639 - val_loss: 0.1562\n",
      "Epoch 13/50\n",
      "\u001b[1m32/32\u001b[0m \u001b[32m━━━━━━━━━━━━━━━━━━━━\u001b[0m\u001b[37m\u001b[0m \u001b[1m4s\u001b[0m 129ms/step - accuracy: 0.9626 - loss: 0.1601 - val_accuracy: 0.9639 - val_loss: 0.1560\n",
      "Epoch 14/50\n",
      "\u001b[1m32/32\u001b[0m \u001b[32m━━━━━━━━━━━━━━━━━━━━\u001b[0m\u001b[37m\u001b[0m \u001b[1m4s\u001b[0m 131ms/step - accuracy: 0.9626 - loss: 0.1600 - val_accuracy: 0.9639 - val_loss: 0.1558\n",
      "Epoch 15/50\n",
      "\u001b[1m32/32\u001b[0m \u001b[32m━━━━━━━━━━━━━━━━━━━━\u001b[0m\u001b[37m\u001b[0m \u001b[1m4s\u001b[0m 134ms/step - accuracy: 0.9675 - loss: 0.1447 - val_accuracy: 0.9639 - val_loss: 0.1557\n",
      "Epoch 16/50\n",
      "\u001b[1m32/32\u001b[0m \u001b[32m━━━━━━━━━━━━━━━━━━━━\u001b[0m\u001b[37m\u001b[0m \u001b[1m4s\u001b[0m 130ms/step - accuracy: 0.9650 - loss: 0.1524 - val_accuracy: 0.9639 - val_loss: 0.1556\n",
      "Epoch 17/50\n",
      "\u001b[1m32/32\u001b[0m \u001b[32m━━━━━━━━━━━━━━━━━━━━\u001b[0m\u001b[37m\u001b[0m \u001b[1m4s\u001b[0m 124ms/step - accuracy: 0.9639 - loss: 0.1557 - val_accuracy: 0.9639 - val_loss: 0.1556\n",
      "Epoch 18/50\n",
      "\u001b[1m32/32\u001b[0m \u001b[32m━━━━━━━━━━━━━━━━━━━━\u001b[0m\u001b[37m\u001b[0m \u001b[1m4s\u001b[0m 128ms/step - accuracy: 0.9647 - loss: 0.1529 - val_accuracy: 0.9639 - val_loss: 0.1555\n",
      "Epoch 19/50\n",
      "\u001b[1m32/32\u001b[0m \u001b[32m━━━━━━━━━━━━━━━━━━━━\u001b[0m\u001b[37m\u001b[0m \u001b[1m4s\u001b[0m 120ms/step - accuracy: 0.9656 - loss: 0.1502 - val_accuracy: 0.9639 - val_loss: 0.1555\n",
      "Epoch 20/50\n",
      "\u001b[1m32/32\u001b[0m \u001b[32m━━━━━━━━━━━━━━━━━━━━\u001b[0m\u001b[37m\u001b[0m \u001b[1m4s\u001b[0m 131ms/step - accuracy: 0.9600 - loss: 0.1679 - val_accuracy: 0.9639 - val_loss: 0.1554\n",
      "Epoch 21/50\n",
      "\u001b[1m32/32\u001b[0m \u001b[32m━━━━━━━━━━━━━━━━━━━━\u001b[0m\u001b[37m\u001b[0m \u001b[1m4s\u001b[0m 128ms/step - accuracy: 0.9589 - loss: 0.1715 - val_accuracy: 0.9639 - val_loss: 0.1554\n",
      "Epoch 22/50\n",
      "\u001b[1m32/32\u001b[0m \u001b[32m━━━━━━━━━━━━━━━━━━━━\u001b[0m\u001b[37m\u001b[0m \u001b[1m4s\u001b[0m 137ms/step - accuracy: 0.9642 - loss: 0.1545 - val_accuracy: 0.9639 - val_loss: 0.1554\n",
      "Epoch 23/50\n",
      "\u001b[1m32/32\u001b[0m \u001b[32m━━━━━━━━━━━━━━━━━━━━\u001b[0m\u001b[37m\u001b[0m \u001b[1m4s\u001b[0m 131ms/step - accuracy: 0.9580 - loss: 0.1743 - val_accuracy: 0.9639 - val_loss: 0.1554\n",
      "Epoch 24/50\n",
      "\u001b[1m32/32\u001b[0m \u001b[32m━━━━━━━━━━━━━━━━━━━━\u001b[0m\u001b[37m\u001b[0m \u001b[1m4s\u001b[0m 130ms/step - accuracy: 0.9633 - loss: 0.1575 - val_accuracy: 0.9639 - val_loss: 0.1554\n",
      "Epoch 25/50\n",
      "\u001b[1m32/32\u001b[0m \u001b[32m━━━━━━━━━━━━━━━━━━━━\u001b[0m\u001b[37m\u001b[0m \u001b[1m4s\u001b[0m 129ms/step - accuracy: 0.9618 - loss: 0.1623 - val_accuracy: 0.9639 - val_loss: 0.1554\n",
      "Epoch 26/50\n",
      "\u001b[1m32/32\u001b[0m \u001b[32m━━━━━━━━━━━━━━━━━━━━\u001b[0m\u001b[37m\u001b[0m \u001b[1m4s\u001b[0m 127ms/step - accuracy: 0.9655 - loss: 0.1501 - val_accuracy: 0.9639 - val_loss: 0.1554\n",
      "Epoch 27/50\n",
      "\u001b[1m32/32\u001b[0m \u001b[32m━━━━━━━━━━━━━━━━━━━━\u001b[0m\u001b[37m\u001b[0m \u001b[1m4s\u001b[0m 119ms/step - accuracy: 0.9648 - loss: 0.1524 - val_accuracy: 0.9639 - val_loss: 0.1554\n",
      "Epoch 28/50\n",
      "\u001b[1m32/32\u001b[0m \u001b[32m━━━━━━━━━━━━━━━━━━━━\u001b[0m\u001b[37m\u001b[0m \u001b[1m4s\u001b[0m 129ms/step - accuracy: 0.9672 - loss: 0.1448 - val_accuracy: 0.9639 - val_loss: 0.1553\n",
      "Epoch 29/50\n",
      "\u001b[1m32/32\u001b[0m \u001b[32m━━━━━━━━━━━━━━━━━━━━\u001b[0m\u001b[37m\u001b[0m \u001b[1m4s\u001b[0m 126ms/step - accuracy: 0.9622 - loss: 0.1607 - val_accuracy: 0.9639 - val_loss: 0.1553\n",
      "Epoch 30/50\n",
      "\u001b[1m32/32\u001b[0m \u001b[32m━━━━━━━━━━━━━━━━━━━━\u001b[0m\u001b[37m\u001b[0m \u001b[1m5s\u001b[0m 143ms/step - accuracy: 0.9584 - loss: 0.1731 - val_accuracy: 0.9639 - val_loss: 0.1553\n",
      "Epoch 31/50\n",
      "\u001b[1m32/32\u001b[0m \u001b[32m━━━━━━━━━━━━━━━━━━━━\u001b[0m\u001b[37m\u001b[0m \u001b[1m4s\u001b[0m 131ms/step - accuracy: 0.9643 - loss: 0.1541 - val_accuracy: 0.9639 - val_loss: 0.1553\n",
      "Epoch 32/50\n",
      "\u001b[1m32/32\u001b[0m \u001b[32m━━━━━━━━━━━━━━━━━━━━\u001b[0m\u001b[37m\u001b[0m \u001b[1m4s\u001b[0m 132ms/step - accuracy: 0.9605 - loss: 0.1663 - val_accuracy: 0.9639 - val_loss: 0.1553\n",
      "Epoch 33/50\n",
      "\u001b[1m32/32\u001b[0m \u001b[32m━━━━━━━━━━━━━━━━━━━━\u001b[0m\u001b[37m\u001b[0m \u001b[1m4s\u001b[0m 131ms/step - accuracy: 0.9637 - loss: 0.1561 - val_accuracy: 0.9639 - val_loss: 0.1553\n",
      "Epoch 34/50\n",
      "\u001b[1m32/32\u001b[0m \u001b[32m━━━━━━━━━━━━━━━━━━━━\u001b[0m\u001b[37m\u001b[0m \u001b[1m5s\u001b[0m 127ms/step - accuracy: 0.9627 - loss: 0.1592 - val_accuracy: 0.9639 - val_loss: 0.1553\n",
      "Epoch 35/50\n",
      "\u001b[1m32/32\u001b[0m \u001b[32m━━━━━━━━━━━━━━━━━━━━\u001b[0m\u001b[37m\u001b[0m \u001b[1m4s\u001b[0m 128ms/step - accuracy: 0.9690 - loss: 0.1387 - val_accuracy: 0.9639 - val_loss: 0.1553\n",
      "Epoch 36/50\n",
      "\u001b[1m32/32\u001b[0m \u001b[32m━━━━━━━━━━━━━━━━━━━━\u001b[0m\u001b[37m\u001b[0m \u001b[1m4s\u001b[0m 129ms/step - accuracy: 0.9637 - loss: 0.1560 - val_accuracy: 0.9639 - val_loss: 0.1553\n",
      "Epoch 37/50\n",
      "\u001b[1m32/32\u001b[0m \u001b[32m━━━━━━━━━━━━━━━━━━━━\u001b[0m\u001b[37m\u001b[0m \u001b[1m5s\u001b[0m 143ms/step - accuracy: 0.9613 - loss: 0.1637 - val_accuracy: 0.9639 - val_loss: 0.1553\n",
      "Epoch 38/50\n",
      "\u001b[1m32/32\u001b[0m \u001b[32m━━━━━━━━━━━━━━━━━━━━\u001b[0m\u001b[37m\u001b[0m \u001b[1m4s\u001b[0m 130ms/step - accuracy: 0.9624 - loss: 0.1603 - val_accuracy: 0.9639 - val_loss: 0.1553\n",
      "Epoch 39/50\n",
      "\u001b[1m32/32\u001b[0m \u001b[32m━━━━━━━━━━━━━━━━━━━━\u001b[0m\u001b[37m\u001b[0m \u001b[1m4s\u001b[0m 128ms/step - accuracy: 0.9583 - loss: 0.1736 - val_accuracy: 0.9639 - val_loss: 0.1553\n",
      "Epoch 40/50\n",
      "\u001b[1m32/32\u001b[0m \u001b[32m━━━━━━━━━━━━━━━━━━━━\u001b[0m\u001b[37m\u001b[0m \u001b[1m4s\u001b[0m 139ms/step - accuracy: 0.9593 - loss: 0.1704 - val_accuracy: 0.9639 - val_loss: 0.1553\n",
      "Epoch 41/50\n",
      "\u001b[1m32/32\u001b[0m \u001b[32m━━━━━━━━━━━━━━━━━━━━\u001b[0m\u001b[37m\u001b[0m \u001b[1m4s\u001b[0m 126ms/step - accuracy: 0.9596 - loss: 0.1692 - val_accuracy: 0.9639 - val_loss: 0.1553\n",
      "Epoch 42/50\n",
      "\u001b[1m32/32\u001b[0m \u001b[32m━━━━━━━━━━━━━━━━━━━━\u001b[0m\u001b[37m\u001b[0m \u001b[1m5s\u001b[0m 126ms/step - accuracy: 0.9634 - loss: 0.1570 - val_accuracy: 0.9639 - val_loss: 0.1553\n",
      "Epoch 43/50\n",
      "\u001b[1m32/32\u001b[0m \u001b[32m━━━━━━━━━━━━━━━━━━━━\u001b[0m\u001b[37m\u001b[0m \u001b[1m4s\u001b[0m 132ms/step - accuracy: 0.9576 - loss: 0.1758 - val_accuracy: 0.9639 - val_loss: 0.1553\n",
      "Epoch 44/50\n",
      "\u001b[1m32/32\u001b[0m \u001b[32m━━━━━━━━━━━━━━━━━━━━\u001b[0m\u001b[37m\u001b[0m \u001b[1m4s\u001b[0m 135ms/step - accuracy: 0.9615 - loss: 0.1633 - val_accuracy: 0.9639 - val_loss: 0.1553\n",
      "Epoch 45/50\n",
      "\u001b[1m32/32\u001b[0m \u001b[32m━━━━━━━━━━━━━━━━━━━━\u001b[0m\u001b[37m\u001b[0m \u001b[1m4s\u001b[0m 134ms/step - accuracy: 0.9653 - loss: 0.1510 - val_accuracy: 0.9639 - val_loss: 0.1553\n",
      "Epoch 46/50\n",
      "\u001b[1m32/32\u001b[0m \u001b[32m━━━━━━━━━━━━━━━━━━━━\u001b[0m\u001b[37m\u001b[0m \u001b[1m4s\u001b[0m 133ms/step - accuracy: 0.9658 - loss: 0.1491 - val_accuracy: 0.9639 - val_loss: 0.1553\n",
      "Epoch 47/50\n",
      "\u001b[1m32/32\u001b[0m \u001b[32m━━━━━━━━━━━━━━━━━━━━\u001b[0m\u001b[37m\u001b[0m \u001b[1m4s\u001b[0m 130ms/step - accuracy: 0.9633 - loss: 0.1573 - val_accuracy: 0.9639 - val_loss: 0.1553\n",
      "Epoch 48/50\n",
      "\u001b[1m32/32\u001b[0m \u001b[32m━━━━━━━━━━━━━━━━━━━━\u001b[0m\u001b[37m\u001b[0m \u001b[1m4s\u001b[0m 135ms/step - accuracy: 0.9610 - loss: 0.1647 - val_accuracy: 0.9639 - val_loss: 0.1553\n",
      "Epoch 49/50\n",
      "\u001b[1m32/32\u001b[0m \u001b[32m━━━━━━━━━━━━━━━━━━━━\u001b[0m\u001b[37m\u001b[0m \u001b[1m4s\u001b[0m 126ms/step - accuracy: 0.9645 - loss: 0.1534 - val_accuracy: 0.9639 - val_loss: 0.1553\n",
      "Epoch 50/50\n",
      "\u001b[1m32/32\u001b[0m \u001b[32m━━━━━━━━━━━━━━━━━━━━\u001b[0m\u001b[37m\u001b[0m \u001b[1m4s\u001b[0m 128ms/step - accuracy: 0.9617 - loss: 0.1624 - val_accuracy: 0.9639 - val_loss: 0.1553\n"
     ]
    }
   ],
   "source": [
    "history = model.fit(X_train ,Y_train,\n",
    "                    batch_size = batch_size ,\n",
    "                    epochs = nb_epochs ,\n",
    "                    validation_data = (X_test , Y_test) , \n",
    "                    verbose = 1 )"
   ]
  },
  {
   "cell_type": "code",
   "execution_count": 160,
   "id": "3aa1d497",
   "metadata": {
    "execution": {
     "iopub.execute_input": "2024-06-24T19:45:15.755767Z",
     "iopub.status.busy": "2024-06-24T19:45:15.755383Z",
     "iopub.status.idle": "2024-06-24T19:45:16.228071Z",
     "shell.execute_reply": "2024-06-24T19:45:16.226954Z",
     "shell.execute_reply.started": "2024-06-24T19:45:15.755735Z"
    }
   },
   "outputs": [
    {
     "data": {
      "image/png": "[encoded data removed]",
      "text/plain": [
       "<Figure size 1400x500 with 2 Axes>"
      ]
     },
     "metadata": {},
     "output_type": "display_data"
    }
   ],
   "source": [
    "plt.figure(figsize=(14, 5))\n",
    "\n",
    "plt.subplot(1, 2, 1)\n",
    "plt.plot(history.history['accuracy'])\n",
    "plt.plot(history.history['val_accuracy'])\n",
    "plt.title('Model accuracy')\n",
    "plt.ylabel('Accuracy')\n",
    "plt.xlabel('Epoch')\n",
    "plt.legend(['Train', 'Test'], loc='upper left')\n",
    "\n",
    "# Plot training & validation loss values\n",
    "plt.subplot(1, 2, 2)\n",
    "plt.plot(history.history['loss'])\n",
    "plt.plot(history.history['val_loss'])\n",
    "plt.title('Model loss')\n",
    "plt.ylabel('Loss')\n",
    "plt.xlabel('Epoch')\n",
    "plt.legend(['Train', 'Test'], loc='upper left')\n",
    "\n",
    "plt.show()"
   ]
  },
  {
   "cell_type": "markdown",
   "id": "dc449128",
   "metadata": {},
   "source": [
    "## Changing Sequential Model to Functional API"
   ]
  },
  {
   "cell_type": "code",
   "execution_count": 161,
   "id": "aedccdcd",
   "metadata": {
    "execution": {
     "iopub.execute_input": "2024-06-24T19:45:16.229636Z",
     "iopub.status.busy": "2024-06-24T19:45:16.229276Z",
     "iopub.status.idle": "2024-06-24T19:45:16.235698Z",
     "shell.execute_reply": "2024-06-24T19:45:16.234509Z",
     "shell.execute_reply.started": "2024-06-24T19:45:16.229605Z"
    }
   },
   "outputs": [],
   "source": [
    "#each layer is turned into a function\n",
    "input = Input(shape = (max_sequence_size , ))"
   ]
  },
  {
   "cell_type": "code",
   "execution_count": 162,
   "id": "336d7d23",
   "metadata": {
    "execution": {
     "iopub.execute_input": "2024-06-24T19:45:16.238400Z",
     "iopub.status.busy": "2024-06-24T19:45:16.237975Z",
     "iopub.status.idle": "2024-06-24T19:45:16.253781Z",
     "shell.execute_reply": "2024-06-24T19:45:16.252818Z",
     "shell.execute_reply.started": "2024-06-24T19:45:16.238353Z"
    }
   },
   "outputs": [],
   "source": [
    "embedding = Embedding(num_amino_acids , embedding_dims)(input) #the input is passed to the embedding layer  "
   ]
  },
  {
   "cell_type": "code",
   "execution_count": 163,
   "id": "9cf793eb",
   "metadata": {
    "execution": {
     "iopub.execute_input": "2024-06-24T19:45:16.255517Z",
     "iopub.status.busy": "2024-06-24T19:45:16.255155Z",
     "iopub.status.idle": "2024-06-24T19:45:16.294694Z",
     "shell.execute_reply": "2024-06-24T19:45:16.293712Z",
     "shell.execute_reply.started": "2024-06-24T19:45:16.255486Z"
    }
   },
   "outputs": [],
   "source": [
    "x = Dense(128, activation='sigmoid')(embedding)\n",
    "x = Dense(64, activation='sigmoid')(x)\n",
    "x = Flatten()(x)   # takes output of emebedding layer and pass it to the flatten layer\n",
    "x = Dense(25 , activation = 'sigmoid')(x)  # passing flatten output to the dense layer\n",
    "x = Dense(1)(x)\n",
    "# the layers above are intermediate layer"
   ]
  },
  {
   "cell_type": "code",
   "execution_count": 164,
   "id": "a39c38ca",
   "metadata": {
    "execution": {
     "iopub.execute_input": "2024-06-24T19:45:16.296321Z",
     "iopub.status.busy": "2024-06-24T19:45:16.295996Z",
     "iopub.status.idle": "2024-06-24T19:45:16.302703Z",
     "shell.execute_reply": "2024-06-24T19:45:16.301489Z",
     "shell.execute_reply.started": "2024-06-24T19:45:16.296291Z"
    }
   },
   "outputs": [],
   "source": [
    "output = Activation('sigmoid')(x)"
   ]
  },
  {
   "cell_type": "code",
   "execution_count": 165,
   "id": "e2cb01b2",
   "metadata": {
    "execution": {
     "iopub.execute_input": "2024-06-24T19:45:16.304174Z",
     "iopub.status.busy": "2024-06-24T19:45:16.303873Z",
     "iopub.status.idle": "2024-06-24T19:45:16.317917Z",
     "shell.execute_reply": "2024-06-24T19:45:16.316851Z",
     "shell.execute_reply.started": "2024-06-24T19:45:16.304147Z"
    }
   },
   "outputs": [],
   "source": [
    "model = Model([input], output)  #input and output is passed to the model"
   ]
  },
  {
   "cell_type": "code",
   "execution_count": 166,
   "id": "3dfcaf0f",
   "metadata": {
    "execution": {
     "iopub.execute_input": "2024-06-24T19:45:16.319879Z",
     "iopub.status.busy": "2024-06-24T19:45:16.319448Z",
     "iopub.status.idle": "2024-06-24T19:45:16.348379Z",
     "shell.execute_reply": "2024-06-24T19:45:16.347428Z",
     "shell.execute_reply.started": "2024-06-24T19:45:16.319839Z"
    }
   },
   "outputs": [
    {
     "data": {
      "text/html": [
       "<pre style=\"white-space:pre;overflow-x:auto;line-height:normal;font-family:Menlo,'DejaVu Sans Mono',consolas,'Courier New',monospace\"><span style=\"font-weight: bold\">Model: \"functional_37\"</span>\n",
       "</pre>\n"
      ],
      "text/plain": [
       "\u001b[1mModel: \"functional_37\"\u001b[0m\n"
      ]
     },
     "metadata": {},
     "output_type": "display_data"
    },
    {
     "data": {
      "text/html": [
       "<pre style=\"white-space:pre;overflow-x:auto;line-height:normal;font-family:Menlo,'DejaVu Sans Mono',consolas,'Courier New',monospace\">┏━━━━━━━━━━━━━━━━━━━━━━━━━━━━━━━━━┳━━━━━━━━━━━━━━━━━━━━━━━━┳━━━━━━━━━━━━━━━┓\n",
       "┃<span style=\"font-weight: bold\"> Layer (type)                    </span>┃<span style=\"font-weight: bold\"> Output Shape           </span>┃<span style=\"font-weight: bold\">       Param # </span>┃\n",
       "┡━━━━━━━━━━━━━━━━━━━━━━━━━━━━━━━━━╇━━━━━━━━━━━━━━━━━━━━━━━━╇━━━━━━━━━━━━━━━┩\n",
       "│ input_layer_10 (<span style=\"color: #0087ff; text-decoration-color: #0087ff\">InputLayer</span>)     │ (<span style=\"color: #00d7ff; text-decoration-color: #00d7ff\">None</span>, <span style=\"color: #00af00; text-decoration-color: #00af00\">500</span>)            │             <span style=\"color: #00af00; text-decoration-color: #00af00\">0</span> │\n",
       "├─────────────────────────────────┼────────────────────────┼───────────────┤\n",
       "│ embedding_19 (<span style=\"color: #0087ff; text-decoration-color: #0087ff\">Embedding</span>)        │ (<span style=\"color: #00d7ff; text-decoration-color: #00d7ff\">None</span>, <span style=\"color: #00af00; text-decoration-color: #00af00\">500</span>, <span style=\"color: #00af00; text-decoration-color: #00af00\">10</span>)        │           <span style=\"color: #00af00; text-decoration-color: #00af00\">230</span> │\n",
       "├─────────────────────────────────┼────────────────────────┼───────────────┤\n",
       "│ dense_55 (<span style=\"color: #0087ff; text-decoration-color: #0087ff\">Dense</span>)                │ (<span style=\"color: #00d7ff; text-decoration-color: #00d7ff\">None</span>, <span style=\"color: #00af00; text-decoration-color: #00af00\">500</span>, <span style=\"color: #00af00; text-decoration-color: #00af00\">128</span>)       │         <span style=\"color: #00af00; text-decoration-color: #00af00\">1,408</span> │\n",
       "├─────────────────────────────────┼────────────────────────┼───────────────┤\n",
       "│ dense_56 (<span style=\"color: #0087ff; text-decoration-color: #0087ff\">Dense</span>)                │ (<span style=\"color: #00d7ff; text-decoration-color: #00d7ff\">None</span>, <span style=\"color: #00af00; text-decoration-color: #00af00\">500</span>, <span style=\"color: #00af00; text-decoration-color: #00af00\">64</span>)        │         <span style=\"color: #00af00; text-decoration-color: #00af00\">8,256</span> │\n",
       "├─────────────────────────────────┼────────────────────────┼───────────────┤\n",
       "│ flatten_16 (<span style=\"color: #0087ff; text-decoration-color: #0087ff\">Flatten</span>)            │ (<span style=\"color: #00d7ff; text-decoration-color: #00d7ff\">None</span>, <span style=\"color: #00af00; text-decoration-color: #00af00\">32000</span>)          │             <span style=\"color: #00af00; text-decoration-color: #00af00\">0</span> │\n",
       "├─────────────────────────────────┼────────────────────────┼───────────────┤\n",
       "│ dense_57 (<span style=\"color: #0087ff; text-decoration-color: #0087ff\">Dense</span>)                │ (<span style=\"color: #00d7ff; text-decoration-color: #00d7ff\">None</span>, <span style=\"color: #00af00; text-decoration-color: #00af00\">25</span>)             │       <span style=\"color: #00af00; text-decoration-color: #00af00\">800,025</span> │\n",
       "├─────────────────────────────────┼────────────────────────┼───────────────┤\n",
       "│ dense_58 (<span style=\"color: #0087ff; text-decoration-color: #0087ff\">Dense</span>)                │ (<span style=\"color: #00d7ff; text-decoration-color: #00d7ff\">None</span>, <span style=\"color: #00af00; text-decoration-color: #00af00\">1</span>)              │            <span style=\"color: #00af00; text-decoration-color: #00af00\">26</span> │\n",
       "├─────────────────────────────────┼────────────────────────┼───────────────┤\n",
       "│ activation_2 (<span style=\"color: #0087ff; text-decoration-color: #0087ff\">Activation</span>)       │ (<span style=\"color: #00d7ff; text-decoration-color: #00d7ff\">None</span>, <span style=\"color: #00af00; text-decoration-color: #00af00\">1</span>)              │             <span style=\"color: #00af00; text-decoration-color: #00af00\">0</span> │\n",
       "└─────────────────────────────────┴────────────────────────┴───────────────┘\n",
       "</pre>\n"
      ],
      "text/plain": [
       "┏━━━━━━━━━━━━━━━━━━━━━━━━━━━━━━━━━┳━━━━━━━━━━━━━━━━━━━━━━━━┳━━━━━━━━━━━━━━━┓\n",
       "┃\u001b[1m \u001b[0m\u001b[1mLayer (type)                   \u001b[0m\u001b[1m \u001b[0m┃\u001b[1m \u001b[0m\u001b[1mOutput Shape          \u001b[0m\u001b[1m \u001b[0m┃\u001b[1m \u001b[0m\u001b[1m      Param #\u001b[0m\u001b[1m \u001b[0m┃\n",
       "┡━━━━━━━━━━━━━━━━━━━━━━━━━━━━━━━━━╇━━━━━━━━━━━━━━━━━━━━━━━━╇━━━━━━━━━━━━━━━┩\n",
       "│ input_layer_10 (\u001b[38;5;33mInputLayer\u001b[0m)     │ (\u001b[38;5;45mNone\u001b[0m, \u001b[38;5;34m500\u001b[0m)            │             \u001b[38;5;34m0\u001b[0m │\n",
       "├─────────────────────────────────┼────────────────────────┼───────────────┤\n",
       "│ embedding_19 (\u001b[38;5;33mEmbedding\u001b[0m)        │ (\u001b[38;5;45mNone\u001b[0m, \u001b[38;5;34m500\u001b[0m, \u001b[38;5;34m10\u001b[0m)        │           \u001b[38;5;34m230\u001b[0m │\n",
       "├─────────────────────────────────┼────────────────────────┼───────────────┤\n",
       "│ dense_55 (\u001b[38;5;33mDense\u001b[0m)                │ (\u001b[38;5;45mNone\u001b[0m, \u001b[38;5;34m500\u001b[0m, \u001b[38;5;34m128\u001b[0m)       │         \u001b[38;5;34m1,408\u001b[0m │\n",
       "├─────────────────────────────────┼────────────────────────┼───────────────┤\n",
       "│ dense_56 (\u001b[38;5;33mDense\u001b[0m)                │ (\u001b[38;5;45mNone\u001b[0m, \u001b[38;5;34m500\u001b[0m, \u001b[38;5;34m64\u001b[0m)        │         \u001b[38;5;34m8,256\u001b[0m │\n",
       "├─────────────────────────────────┼────────────────────────┼───────────────┤\n",
       "│ flatten_16 (\u001b[38;5;33mFlatten\u001b[0m)            │ (\u001b[38;5;45mNone\u001b[0m, \u001b[38;5;34m32000\u001b[0m)          │             \u001b[38;5;34m0\u001b[0m │\n",
       "├─────────────────────────────────┼────────────────────────┼───────────────┤\n",
       "│ dense_57 (\u001b[38;5;33mDense\u001b[0m)                │ (\u001b[38;5;45mNone\u001b[0m, \u001b[38;5;34m25\u001b[0m)             │       \u001b[38;5;34m800,025\u001b[0m │\n",
       "├─────────────────────────────────┼────────────────────────┼───────────────┤\n",
       "│ dense_58 (\u001b[38;5;33mDense\u001b[0m)                │ (\u001b[38;5;45mNone\u001b[0m, \u001b[38;5;34m1\u001b[0m)              │            \u001b[38;5;34m26\u001b[0m │\n",
       "├─────────────────────────────────┼────────────────────────┼───────────────┤\n",
       "│ activation_2 (\u001b[38;5;33mActivation\u001b[0m)       │ (\u001b[38;5;45mNone\u001b[0m, \u001b[38;5;34m1\u001b[0m)              │             \u001b[38;5;34m0\u001b[0m │\n",
       "└─────────────────────────────────┴────────────────────────┴───────────────┘\n"
      ]
     },
     "metadata": {},
     "output_type": "display_data"
    },
    {
     "data": {
      "text/html": [
       "<pre style=\"white-space:pre;overflow-x:auto;line-height:normal;font-family:Menlo,'DejaVu Sans Mono',consolas,'Courier New',monospace\"><span style=\"font-weight: bold\"> Total params: </span><span style=\"color: #00af00; text-decoration-color: #00af00\">809,945</span> (3.09 MB)\n",
       "</pre>\n"
      ],
      "text/plain": [
       "\u001b[1m Total params: \u001b[0m\u001b[38;5;34m809,945\u001b[0m (3.09 MB)\n"
      ]
     },
     "metadata": {},
     "output_type": "display_data"
    },
    {
     "data": {
      "text/html": [
       "<pre style=\"white-space:pre;overflow-x:auto;line-height:normal;font-family:Menlo,'DejaVu Sans Mono',consolas,'Courier New',monospace\"><span style=\"font-weight: bold\"> Trainable params: </span><span style=\"color: #00af00; text-decoration-color: #00af00\">809,945</span> (3.09 MB)\n",
       "</pre>\n"
      ],
      "text/plain": [
       "\u001b[1m Trainable params: \u001b[0m\u001b[38;5;34m809,945\u001b[0m (3.09 MB)\n"
      ]
     },
     "metadata": {},
     "output_type": "display_data"
    },
    {
     "data": {
      "text/html": [
       "<pre style=\"white-space:pre;overflow-x:auto;line-height:normal;font-family:Menlo,'DejaVu Sans Mono',consolas,'Courier New',monospace\"><span style=\"font-weight: bold\"> Non-trainable params: </span><span style=\"color: #00af00; text-decoration-color: #00af00\">0</span> (0.00 B)\n",
       "</pre>\n"
      ],
      "text/plain": [
       "\u001b[1m Non-trainable params: \u001b[0m\u001b[38;5;34m0\u001b[0m (0.00 B)\n"
      ]
     },
     "metadata": {},
     "output_type": "display_data"
    }
   ],
   "source": [
    "model.summary()"
   ]
  },
  {
   "cell_type": "code",
   "execution_count": 167,
   "id": "0d43a4f5",
   "metadata": {
    "execution": {
     "iopub.execute_input": "2024-06-24T19:45:16.350050Z",
     "iopub.status.busy": "2024-06-24T19:45:16.349733Z",
     "iopub.status.idle": "2024-06-24T19:45:16.359763Z",
     "shell.execute_reply": "2024-06-24T19:45:16.358710Z",
     "shell.execute_reply.started": "2024-06-24T19:45:16.350023Z"
    }
   },
   "outputs": [],
   "source": [
    "model.compile(loss = 'binary_crossentropy' , \n",
    "             optimizer = 'Adam' ,\n",
    "              metrics = ['accuracy']\n",
    "             )"
   ]
  },
  {
   "cell_type": "code",
   "execution_count": 168,
   "id": "9bf45300",
   "metadata": {
    "execution": {
     "iopub.execute_input": "2024-06-24T19:45:16.362975Z",
     "iopub.status.busy": "2024-06-24T19:45:16.362637Z",
     "iopub.status.idle": "2024-06-24T19:48:57.579889Z",
     "shell.execute_reply": "2024-06-24T19:48:57.578878Z",
     "shell.execute_reply.started": "2024-06-24T19:45:16.362945Z"
    }
   },
   "outputs": [
    {
     "name": "stdout",
     "output_type": "stream",
     "text": [
      "Epoch 1/50\n",
      "\u001b[1m32/32\u001b[0m \u001b[32m━━━━━━━━━━━━━━━━━━━━\u001b[0m\u001b[37m\u001b[0m \u001b[1m6s\u001b[0m 145ms/step - accuracy: 0.9624 - loss: 0.2229 - val_accuracy: 0.9639 - val_loss: 0.1560\n",
      "Epoch 2/50\n",
      "\u001b[1m32/32\u001b[0m \u001b[32m━━━━━━━━━━━━━━━━━━━━\u001b[0m\u001b[37m\u001b[0m \u001b[1m5s\u001b[0m 130ms/step - accuracy: 0.9662 - loss: 0.1479 - val_accuracy: 0.9639 - val_loss: 0.1556\n",
      "Epoch 3/50\n",
      "\u001b[1m32/32\u001b[0m \u001b[32m━━━━━━━━━━━━━━━━━━━━\u001b[0m\u001b[37m\u001b[0m \u001b[1m4s\u001b[0m 130ms/step - accuracy: 0.9634 - loss: 0.1572 - val_accuracy: 0.9639 - val_loss: 0.1554\n",
      "Epoch 4/50\n",
      "\u001b[1m32/32\u001b[0m \u001b[32m━━━━━━━━━━━━━━━━━━━━\u001b[0m\u001b[37m\u001b[0m \u001b[1m4s\u001b[0m 136ms/step - accuracy: 0.9648 - loss: 0.1525 - val_accuracy: 0.9639 - val_loss: 0.1553\n",
      "Epoch 5/50\n",
      "\u001b[1m32/32\u001b[0m \u001b[32m━━━━━━━━━━━━━━━━━━━━\u001b[0m\u001b[37m\u001b[0m \u001b[1m4s\u001b[0m 134ms/step - accuracy: 0.9654 - loss: 0.1504 - val_accuracy: 0.9639 - val_loss: 0.1553\n",
      "Epoch 6/50\n",
      "\u001b[1m32/32\u001b[0m \u001b[32m━━━━━━━━━━━━━━━━━━━━\u001b[0m\u001b[37m\u001b[0m \u001b[1m4s\u001b[0m 132ms/step - accuracy: 0.9588 - loss: 0.1720 - val_accuracy: 0.9639 - val_loss: 0.1553\n",
      "Epoch 7/50\n",
      "\u001b[1m32/32\u001b[0m \u001b[32m━━━━━━━━━━━━━━━━━━━━\u001b[0m\u001b[37m\u001b[0m \u001b[1m4s\u001b[0m 129ms/step - accuracy: 0.9610 - loss: 0.1646 - val_accuracy: 0.9639 - val_loss: 0.1553\n",
      "Epoch 8/50\n",
      "\u001b[1m32/32\u001b[0m \u001b[32m━━━━━━━━━━━━━━━━━━━━\u001b[0m\u001b[37m\u001b[0m \u001b[1m4s\u001b[0m 136ms/step - accuracy: 0.9652 - loss: 0.1513 - val_accuracy: 0.9639 - val_loss: 0.1553\n",
      "Epoch 9/50\n",
      "\u001b[1m32/32\u001b[0m \u001b[32m━━━━━━━━━━━━━━━━━━━━\u001b[0m\u001b[37m\u001b[0m \u001b[1m4s\u001b[0m 140ms/step - accuracy: 0.9641 - loss: 0.1546 - val_accuracy: 0.9639 - val_loss: 0.1553\n",
      "Epoch 10/50\n",
      "\u001b[1m32/32\u001b[0m \u001b[32m━━━━━━━━━━━━━━━━━━━━\u001b[0m\u001b[37m\u001b[0m \u001b[1m4s\u001b[0m 131ms/step - accuracy: 0.9581 - loss: 0.1743 - val_accuracy: 0.9639 - val_loss: 0.1553\n",
      "Epoch 11/50\n",
      "\u001b[1m32/32\u001b[0m \u001b[32m━━━━━━━━━━━━━━━━━━━━\u001b[0m\u001b[37m\u001b[0m \u001b[1m4s\u001b[0m 136ms/step - accuracy: 0.9628 - loss: 0.1590 - val_accuracy: 0.9639 - val_loss: 0.1553\n",
      "Epoch 12/50\n",
      "\u001b[1m32/32\u001b[0m \u001b[32m━━━━━━━━━━━━━━━━━━━━\u001b[0m\u001b[37m\u001b[0m \u001b[1m4s\u001b[0m 136ms/step - accuracy: 0.9587 - loss: 0.1723 - val_accuracy: 0.9639 - val_loss: 0.1553\n",
      "Epoch 13/50\n",
      "\u001b[1m32/32\u001b[0m \u001b[32m━━━━━━━━━━━━━━━━━━━━\u001b[0m\u001b[37m\u001b[0m \u001b[1m4s\u001b[0m 128ms/step - accuracy: 0.9645 - loss: 0.1534 - val_accuracy: 0.9639 - val_loss: 0.1553\n",
      "Epoch 14/50\n",
      "\u001b[1m32/32\u001b[0m \u001b[32m━━━━━━━━━━━━━━━━━━━━\u001b[0m\u001b[37m\u001b[0m \u001b[1m4s\u001b[0m 127ms/step - accuracy: 0.9655 - loss: 0.1503 - val_accuracy: 0.9639 - val_loss: 0.1554\n",
      "Epoch 15/50\n",
      "\u001b[1m32/32\u001b[0m \u001b[32m━━━━━━━━━━━━━━━━━━━━\u001b[0m\u001b[37m\u001b[0m \u001b[1m5s\u001b[0m 131ms/step - accuracy: 0.9621 - loss: 0.1611 - val_accuracy: 0.9639 - val_loss: 0.1554\n",
      "Epoch 16/50\n",
      "\u001b[1m32/32\u001b[0m \u001b[32m━━━━━━━━━━━━━━━━━━━━\u001b[0m\u001b[37m\u001b[0m \u001b[1m4s\u001b[0m 134ms/step - accuracy: 0.9630 - loss: 0.1584 - val_accuracy: 0.9639 - val_loss: 0.1553\n",
      "Epoch 17/50\n",
      "\u001b[1m32/32\u001b[0m \u001b[32m━━━━━━━━━━━━━━━━━━━━\u001b[0m\u001b[37m\u001b[0m \u001b[1m4s\u001b[0m 121ms/step - accuracy: 0.9611 - loss: 0.1646 - val_accuracy: 0.9639 - val_loss: 0.1553\n",
      "Epoch 18/50\n",
      "\u001b[1m32/32\u001b[0m \u001b[32m━━━━━━━━━━━━━━━━━━━━\u001b[0m\u001b[37m\u001b[0m \u001b[1m4s\u001b[0m 136ms/step - accuracy: 0.9619 - loss: 0.1618 - val_accuracy: 0.9639 - val_loss: 0.1553\n",
      "Epoch 19/50\n",
      "\u001b[1m32/32\u001b[0m \u001b[32m━━━━━━━━━━━━━━━━━━━━\u001b[0m\u001b[37m\u001b[0m \u001b[1m5s\u001b[0m 134ms/step - accuracy: 0.9624 - loss: 0.1604 - val_accuracy: 0.9639 - val_loss: 0.1553\n",
      "Epoch 20/50\n",
      "\u001b[1m32/32\u001b[0m \u001b[32m━━━━━━━━━━━━━━━━━━━━\u001b[0m\u001b[37m\u001b[0m \u001b[1m4s\u001b[0m 132ms/step - accuracy: 0.9631 - loss: 0.1581 - val_accuracy: 0.9639 - val_loss: 0.1554\n",
      "Epoch 21/50\n",
      "\u001b[1m32/32\u001b[0m \u001b[32m━━━━━━━━━━━━━━━━━━━━\u001b[0m\u001b[37m\u001b[0m \u001b[1m4s\u001b[0m 134ms/step - accuracy: 0.9626 - loss: 0.1597 - val_accuracy: 0.9639 - val_loss: 0.1553\n",
      "Epoch 22/50\n",
      "\u001b[1m32/32\u001b[0m \u001b[32m━━━━━━━━━━━━━━━━━━━━\u001b[0m\u001b[37m\u001b[0m \u001b[1m4s\u001b[0m 130ms/step - accuracy: 0.9635 - loss: 0.1567 - val_accuracy: 0.9639 - val_loss: 0.1553\n",
      "Epoch 23/50\n",
      "\u001b[1m32/32\u001b[0m \u001b[32m━━━━━━━━━━━━━━━━━━━━\u001b[0m\u001b[37m\u001b[0m \u001b[1m5s\u001b[0m 142ms/step - accuracy: 0.9623 - loss: 0.1605 - val_accuracy: 0.9639 - val_loss: 0.1553\n",
      "Epoch 24/50\n",
      "\u001b[1m32/32\u001b[0m \u001b[32m━━━━━━━━━━━━━━━━━━━━\u001b[0m\u001b[37m\u001b[0m \u001b[1m4s\u001b[0m 133ms/step - accuracy: 0.9639 - loss: 0.1553 - val_accuracy: 0.9639 - val_loss: 0.1553\n",
      "Epoch 25/50\n",
      "\u001b[1m32/32\u001b[0m \u001b[32m━━━━━━━━━━━━━━━━━━━━\u001b[0m\u001b[37m\u001b[0m \u001b[1m4s\u001b[0m 130ms/step - accuracy: 0.9597 - loss: 0.1693 - val_accuracy: 0.9639 - val_loss: 0.1553\n",
      "Epoch 26/50\n",
      "\u001b[1m32/32\u001b[0m \u001b[32m━━━━━━━━━━━━━━━━━━━━\u001b[0m\u001b[37m\u001b[0m \u001b[1m4s\u001b[0m 130ms/step - accuracy: 0.9636 - loss: 0.1565 - val_accuracy: 0.9639 - val_loss: 0.1553\n",
      "Epoch 27/50\n",
      "\u001b[1m32/32\u001b[0m \u001b[32m━━━━━━━━━━━━━━━━━━━━\u001b[0m\u001b[37m\u001b[0m \u001b[1m4s\u001b[0m 134ms/step - accuracy: 0.9646 - loss: 0.1530 - val_accuracy: 0.9639 - val_loss: 0.1553\n",
      "Epoch 28/50\n",
      "\u001b[1m32/32\u001b[0m \u001b[32m━━━━━━━━━━━━━━━━━━━━\u001b[0m\u001b[37m\u001b[0m \u001b[1m4s\u001b[0m 130ms/step - accuracy: 0.9669 - loss: 0.1456 - val_accuracy: 0.9639 - val_loss: 0.1553\n",
      "Epoch 29/50\n",
      "\u001b[1m32/32\u001b[0m \u001b[32m━━━━━━━━━━━━━━━━━━━━\u001b[0m\u001b[37m\u001b[0m \u001b[1m4s\u001b[0m 132ms/step - accuracy: 0.9648 - loss: 0.1524 - val_accuracy: 0.9639 - val_loss: 0.1554\n",
      "Epoch 30/50\n",
      "\u001b[1m32/32\u001b[0m \u001b[32m━━━━━━━━━━━━━━━━━━━━\u001b[0m\u001b[37m\u001b[0m \u001b[1m4s\u001b[0m 128ms/step - accuracy: 0.9643 - loss: 0.1543 - val_accuracy: 0.9639 - val_loss: 0.1553\n",
      "Epoch 31/50\n",
      "\u001b[1m32/32\u001b[0m \u001b[32m━━━━━━━━━━━━━━━━━━━━\u001b[0m\u001b[37m\u001b[0m \u001b[1m5s\u001b[0m 133ms/step - accuracy: 0.9653 - loss: 0.1508 - val_accuracy: 0.9639 - val_loss: 0.1553\n",
      "Epoch 32/50\n",
      "\u001b[1m32/32\u001b[0m \u001b[32m━━━━━━━━━━━━━━━━━━━━\u001b[0m\u001b[37m\u001b[0m \u001b[1m4s\u001b[0m 135ms/step - accuracy: 0.9617 - loss: 0.1624 - val_accuracy: 0.9639 - val_loss: 0.1553\n",
      "Epoch 33/50\n",
      "\u001b[1m32/32\u001b[0m \u001b[32m━━━━━━━━━━━━━━━━━━━━\u001b[0m\u001b[37m\u001b[0m \u001b[1m5s\u001b[0m 143ms/step - accuracy: 0.9598 - loss: 0.1688 - val_accuracy: 0.9639 - val_loss: 0.1553\n",
      "Epoch 34/50\n",
      "\u001b[1m32/32\u001b[0m \u001b[32m━━━━━━━━━━━━━━━━━━━━\u001b[0m\u001b[37m\u001b[0m \u001b[1m4s\u001b[0m 136ms/step - accuracy: 0.9628 - loss: 0.1590 - val_accuracy: 0.9639 - val_loss: 0.1553\n",
      "Epoch 35/50\n",
      "\u001b[1m32/32\u001b[0m \u001b[32m━━━━━━━━━━━━━━━━━━━━\u001b[0m\u001b[37m\u001b[0m \u001b[1m4s\u001b[0m 132ms/step - accuracy: 0.9567 - loss: 0.1789 - val_accuracy: 0.9639 - val_loss: 0.1554\n",
      "Epoch 36/50\n",
      "\u001b[1m32/32\u001b[0m \u001b[32m━━━━━━━━━━━━━━━━━━━━\u001b[0m\u001b[37m\u001b[0m \u001b[1m5s\u001b[0m 132ms/step - accuracy: 0.9640 - loss: 0.1553 - val_accuracy: 0.9639 - val_loss: 0.1553\n",
      "Epoch 37/50\n",
      "\u001b[1m32/32\u001b[0m \u001b[32m━━━━━━━━━━━━━━━━━━━━\u001b[0m\u001b[37m\u001b[0m \u001b[1m4s\u001b[0m 140ms/step - accuracy: 0.9617 - loss: 0.1627 - val_accuracy: 0.9639 - val_loss: 0.1553\n",
      "Epoch 38/50\n",
      "\u001b[1m32/32\u001b[0m \u001b[32m━━━━━━━━━━━━━━━━━━━━\u001b[0m\u001b[37m\u001b[0m \u001b[1m4s\u001b[0m 134ms/step - accuracy: 0.9621 - loss: 0.1612 - val_accuracy: 0.9639 - val_loss: 0.1553\n",
      "Epoch 39/50\n",
      "\u001b[1m32/32\u001b[0m \u001b[32m━━━━━━━━━━━━━━━━━━━━\u001b[0m\u001b[37m\u001b[0m \u001b[1m4s\u001b[0m 128ms/step - accuracy: 0.9698 - loss: 0.1361 - val_accuracy: 0.9639 - val_loss: 0.1553\n",
      "Epoch 40/50\n",
      "\u001b[1m32/32\u001b[0m \u001b[32m━━━━━━━━━━━━━━━━━━━━\u001b[0m\u001b[37m\u001b[0m \u001b[1m4s\u001b[0m 128ms/step - accuracy: 0.9671 - loss: 0.1449 - val_accuracy: 0.9639 - val_loss: 0.1553\n",
      "Epoch 41/50\n",
      "\u001b[1m32/32\u001b[0m \u001b[32m━━━━━━━━━━━━━━━━━━━━\u001b[0m\u001b[37m\u001b[0m \u001b[1m4s\u001b[0m 130ms/step - accuracy: 0.9659 - loss: 0.1490 - val_accuracy: 0.9639 - val_loss: 0.1553\n",
      "Epoch 42/50\n",
      "\u001b[1m32/32\u001b[0m \u001b[32m━━━━━━━━━━━━━━━━━━━━\u001b[0m\u001b[37m\u001b[0m \u001b[1m4s\u001b[0m 127ms/step - accuracy: 0.9625 - loss: 0.1599 - val_accuracy: 0.9639 - val_loss: 0.1553\n",
      "Epoch 43/50\n",
      "\u001b[1m32/32\u001b[0m \u001b[32m━━━━━━━━━━━━━━━━━━━━\u001b[0m\u001b[37m\u001b[0m \u001b[1m4s\u001b[0m 132ms/step - accuracy: 0.9626 - loss: 0.1596 - val_accuracy: 0.9639 - val_loss: 0.1553\n",
      "Epoch 44/50\n",
      "\u001b[1m32/32\u001b[0m \u001b[32m━━━━━━━━━━━━━━━━━━━━\u001b[0m\u001b[37m\u001b[0m \u001b[1m4s\u001b[0m 130ms/step - accuracy: 0.9624 - loss: 0.1603 - val_accuracy: 0.9639 - val_loss: 0.1553\n",
      "Epoch 45/50\n",
      "\u001b[1m32/32\u001b[0m \u001b[32m━━━━━━━━━━━━━━━━━━━━\u001b[0m\u001b[37m\u001b[0m \u001b[1m4s\u001b[0m 140ms/step - accuracy: 0.9619 - loss: 0.1620 - val_accuracy: 0.9639 - val_loss: 0.1553\n",
      "Epoch 46/50\n",
      "\u001b[1m32/32\u001b[0m \u001b[32m━━━━━━━━━━━━━━━━━━━━\u001b[0m\u001b[37m\u001b[0m \u001b[1m4s\u001b[0m 138ms/step - accuracy: 0.9627 - loss: 0.1592 - val_accuracy: 0.9639 - val_loss: 0.1553\n",
      "Epoch 47/50\n",
      "\u001b[1m32/32\u001b[0m \u001b[32m━━━━━━━━━━━━━━━━━━━━\u001b[0m\u001b[37m\u001b[0m \u001b[1m4s\u001b[0m 131ms/step - accuracy: 0.9659 - loss: 0.1489 - val_accuracy: 0.9639 - val_loss: 0.1553\n",
      "Epoch 48/50\n",
      "\u001b[1m32/32\u001b[0m \u001b[32m━━━━━━━━━━━━━━━━━━━━\u001b[0m\u001b[37m\u001b[0m \u001b[1m5s\u001b[0m 129ms/step - accuracy: 0.9672 - loss: 0.1445 - val_accuracy: 0.9639 - val_loss: 0.1553\n",
      "Epoch 49/50\n",
      "\u001b[1m32/32\u001b[0m \u001b[32m━━━━━━━━━━━━━━━━━━━━\u001b[0m\u001b[37m\u001b[0m \u001b[1m4s\u001b[0m 130ms/step - accuracy: 0.9641 - loss: 0.1546 - val_accuracy: 0.9639 - val_loss: 0.1553\n",
      "Epoch 50/50\n",
      "\u001b[1m32/32\u001b[0m \u001b[32m━━━━━━━━━━━━━━━━━━━━\u001b[0m\u001b[37m\u001b[0m \u001b[1m4s\u001b[0m 134ms/step - accuracy: 0.9613 - loss: 0.1637 - val_accuracy: 0.9639 - val_loss: 0.1554\n"
     ]
    }
   ],
   "source": [
    "history = model.fit(X_train , Y_train , \n",
    "         batch_size = batch_size ,\n",
    "         epochs = nb_epochs ,\n",
    "         validation_data = (X_test , Y_test) ,\n",
    "         verbose = 1)"
   ]
  },
  {
   "cell_type": "code",
   "execution_count": 172,
   "id": "31c13495",
   "metadata": {
    "execution": {
     "iopub.execute_input": "2024-06-24T19:49:47.801700Z",
     "iopub.status.busy": "2024-06-24T19:49:47.800389Z",
     "iopub.status.idle": "2024-06-24T19:49:47.806058Z",
     "shell.execute_reply": "2024-06-24T19:49:47.804990Z",
     "shell.execute_reply.started": "2024-06-24T19:49:47.801656Z"
    }
   },
   "outputs": [],
   "source": [
    "# history.history"
   ]
  },
  {
   "cell_type": "code",
   "execution_count": 170,
   "id": "49aa5a8b",
   "metadata": {
    "execution": {
     "iopub.execute_input": "2024-06-24T19:48:57.592996Z",
     "iopub.status.busy": "2024-06-24T19:48:57.592634Z",
     "iopub.status.idle": "2024-06-24T19:48:57.600552Z",
     "shell.execute_reply": "2024-06-24T19:48:57.599590Z",
     "shell.execute_reply.started": "2024-06-24T19:48:57.592967Z"
    }
   },
   "outputs": [],
   "source": [
    "import matplotlib.pyplot as plt"
   ]
  },
  {
   "cell_type": "code",
   "execution_count": 171,
   "id": "89eb5ab6",
   "metadata": {
    "execution": {
     "iopub.execute_input": "2024-06-24T19:48:57.602001Z",
     "iopub.status.busy": "2024-06-24T19:48:57.601692Z",
     "iopub.status.idle": "2024-06-24T19:48:58.045642Z",
     "shell.execute_reply": "2024-06-24T19:48:58.044500Z",
     "shell.execute_reply.started": "2024-06-24T19:48:57.601975Z"
    }
   },
   "outputs": [
    {
     "data": {
      "image/png": "[encoded data removed]",
      "text/plain": [
       "<Figure size 1400x500 with 2 Axes>"
      ]
     },
     "metadata": {},
     "output_type": "display_data"
    }
   ],
   "source": [
    "plt.figure(figsize=(14, 5))\n",
    "\n",
    "plt.subplot(1, 2, 1)\n",
    "plt.plot(history.history['accuracy'])\n",
    "plt.plot(history.history['val_accuracy'])\n",
    "plt.title('Model accuracy')\n",
    "plt.ylabel('Accuracy')\n",
    "plt.xlabel('Epoch')\n",
    "plt.legend(['Train', 'Test'], loc='upper left')\n",
    "\n",
    "# Plot training & validation loss values\n",
    "plt.subplot(1, 2, 2)\n",
    "plt.plot(history.history['loss'])\n",
    "plt.plot(history.history['val_loss'])\n",
    "plt.title('Model loss')\n",
    "plt.ylabel('Loss')\n",
    "plt.xlabel('Epoch')\n",
    "plt.legend(['Train', 'Test'], loc='upper left')\n",
    "\n",
    "plt.show()"
   ]
  },
  {
   "cell_type": "code",
   "execution_count": null,
   "id": "5c1df509",
   "metadata": {},
   "outputs": [],
   "source": []
  }
 ],
 "metadata": {
  "kaggle": {
   "accelerator": "none",
   "dataSources": [
    {
     "datasetId": 5274969,
     "sourceId": 8776471,
     "sourceType": "datasetVersion"
    }
   ],
   "dockerImageVersionId": 30732,
   "isGpuEnabled": false,
   "isInternetEnabled": true,
   "language": "python",
   "sourceType": "notebook"
  },
  "kernelspec": {
   "display_name": "Python 3 (ipykernel)",
   "language": "python",
   "name": "python3"
  },
  "language_info": {
   "codemirror_mode": {
    "name": "ipython",
    "version": 3
   },
   "file_extension": ".py",
   "mimetype": "text/x-python",
   "name": "python",
   "nbconvert_exporter": "python",
   "pygments_lexer": "ipython3",
   "version": "3.11.7"
  }
 },
 "nbformat": 4,
 "nbformat_minor": 5
}
